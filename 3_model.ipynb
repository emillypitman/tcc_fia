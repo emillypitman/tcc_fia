{
 "cells": [
  {
   "cell_type": "markdown",
   "id": "hispanic-protest",
   "metadata": {},
   "source": [
    "# Notebook 3 -  Modelagem"
   ]
  },
  {
   "cell_type": "markdown",
   "id": "induced-monaco",
   "metadata": {},
   "source": [
    "# Libs"
   ]
  },
  {
   "cell_type": "code",
   "execution_count": 1,
   "id": "swedish-toilet",
   "metadata": {},
   "outputs": [],
   "source": [
    "import pandas as pd\n",
    "import numpy as np\n",
    "import matplotlib.pyplot as plt\n",
    "import seaborn as sns\n",
    "from sklearn.tree import plot_tree\n",
    "import statsmodels.api as sm\n",
    "import pickle\n",
    "\n",
    "import warnings\n",
    "pd.options.display.float_format = '{:.2f}'.format\n",
    "from sklearn.metrics import roc_auc_score\n",
    "from sklearn.preprocessing import OrdinalEncoder\n",
    "\n",
    "# preprocessing\n",
    "from sklearn.metrics import *\n",
    "from sklearn.impute import KNNImputer\n",
    "from sklearn.preprocessing import StandardScaler\n",
    "from feature_engine.imputation import ArbitraryNumberImputer\n",
    "from sklearn.pipeline import Pipeline\n",
    "from sklearn.tree import DecisionTreeClassifier\n",
    "from sklearn.model_selection import StratifiedKFold\n",
    "from sklearn.model_selection import cross_val_score\n",
    "\n",
    "from sklearn.pipeline import Pipeline\n",
    "from feature_engine.imputation import ArbitraryNumberImputer\n",
    "from feature_engine.imputation import MeanMedianImputer\n",
    "\n",
    "from feature_engine.imputation import CategoricalImputer\n",
    "from feature_engine.encoding import OneHotEncoder, OrdinalEncoder\n",
    "from sklearn.preprocessing import StandardScaler, LabelEncoder\n",
    "from feature_engine.wrappers import SklearnTransformerWrapper\n",
    "\n",
    "from sklearn.model_selection import cross_validate\n",
    "from sklearn.model_selection import StratifiedKFold\n",
    "from sklearn.tree import DecisionTreeClassifier\n",
    "from sklearn.ensemble import RandomForestClassifier\n",
    "from sklearn.preprocessing import OrdinalEncoder\n",
    "\n",
    "from sklearn.linear_model import LogisticRegression\n",
    "\n",
    "from feature_engine.selection import DropConstantFeatures\n",
    "from feature_engine.selection import DropDuplicateFeatures\n",
    "from feature_engine.selection import DropCorrelatedFeatures\n",
    "from feature_engine.selection import SmartCorrelatedSelection\n",
    "from feature_engine.selection import SelectByShuffling\n",
    "from feature_engine.selection import SelectBySingleFeaturePerformance\n",
    "from feature_engine.selection import RecursiveFeatureElimination\n",
    "\n",
    "\n",
    "from catboost import CatBoostClassifier\n",
    "\n",
    "pd.set_option('display.max_columns', 200)\n",
    "pd.set_option('display.max_rows', 22000000)\n",
    "pd.set_option('display.width', 400)\n",
    "warnings.filterwarnings('ignore')"
   ]
  },
  {
   "cell_type": "markdown",
   "id": "intellectual-fruit",
   "metadata": {},
   "source": [
    "# Lendo a base"
   ]
  },
  {
   "cell_type": "code",
   "execution_count": 2,
   "id": "warming-delight",
   "metadata": {},
   "outputs": [],
   "source": [
    "df1 = pd.read_csv(\"loan_model_base.csv\")"
   ]
  },
  {
   "cell_type": "code",
   "execution_count": 3,
   "id": "egyptian-milwaukee",
   "metadata": {},
   "outputs": [],
   "source": [
    "df1['prazo'] = df1['prazo'].apply(lambda x: x.strip())"
   ]
  },
  {
   "cell_type": "code",
   "execution_count": 4,
   "id": "allied-popularity",
   "metadata": {},
   "outputs": [
    {
     "name": "stdout",
     "output_type": "stream",
     "text": [
      "(862074, 36)\n"
     ]
    },
    {
     "data": {
      "text/html": [
       "<div>\n",
       "<style scoped>\n",
       "    .dataframe tbody tr th:only-of-type {\n",
       "        vertical-align: middle;\n",
       "    }\n",
       "\n",
       "    .dataframe tbody tr th {\n",
       "        vertical-align: top;\n",
       "    }\n",
       "\n",
       "    .dataframe thead th {\n",
       "        text-align: right;\n",
       "    }\n",
       "</style>\n",
       "<table border=\"1\" class=\"dataframe\">\n",
       "  <thead>\n",
       "    <tr style=\"text-align: right;\">\n",
       "      <th></th>\n",
       "      <th>id</th>\n",
       "      <th>volume_emp</th>\n",
       "      <th>prazo</th>\n",
       "      <th>taxa_juros</th>\n",
       "      <th>score</th>\n",
       "      <th>sub_score</th>\n",
       "      <th>nome_emprego</th>\n",
       "      <th>anos_emprego</th>\n",
       "      <th>casa_propria</th>\n",
       "      <th>renda_anual</th>\n",
       "      <th>status_verificacao</th>\n",
       "      <th>mes_inic_emp</th>\n",
       "      <th>status_emp</th>\n",
       "      <th>proposito_emp</th>\n",
       "      <th>titulo_emp</th>\n",
       "      <th>estado_endereco</th>\n",
       "      <th>razao_pag_inc</th>\n",
       "      <th>primeira_linha_cred</th>\n",
       "      <th>linhas_cred_abertas</th>\n",
       "      <th>reg_pub_depreciativos</th>\n",
       "      <th>saldo_rot_total</th>\n",
       "      <th>taxa_uso_linha_rot</th>\n",
       "      <th>status_init</th>\n",
       "      <th>tipo_emp</th>\n",
       "      <th>linhas_abertas_m6</th>\n",
       "      <th>prest_abertas</th>\n",
       "      <th>prest_abertas_m12</th>\n",
       "      <th>razao_saldo_lim_cred</th>\n",
       "      <th>negociacoes_abertas_m12</th>\n",
       "      <th>qtd_consultas_cred</th>\n",
       "      <th>qtd_negociacoes_cred</th>\n",
       "      <th>qtd_consultas_cred_m12</th>\n",
       "      <th>meses_primeira_abert_prestacoes</th>\n",
       "      <th>qtd_hipotecas</th>\n",
       "      <th>emprego_categoria</th>\n",
       "      <th>fico_score</th>\n",
       "    </tr>\n",
       "  </thead>\n",
       "  <tbody>\n",
       "    <tr>\n",
       "      <th>0</th>\n",
       "      <td>68407277</td>\n",
       "      <td>3600.00</td>\n",
       "      <td>36 months</td>\n",
       "      <td>13.99</td>\n",
       "      <td>C</td>\n",
       "      <td>C4</td>\n",
       "      <td>leadman</td>\n",
       "      <td>10+ years</td>\n",
       "      <td>MORTGAGE</td>\n",
       "      <td>55000.00</td>\n",
       "      <td>Not Verified</td>\n",
       "      <td>2015-12-01</td>\n",
       "      <td>0</td>\n",
       "      <td>debt_consolidation</td>\n",
       "      <td>Debt consolidation</td>\n",
       "      <td>PA</td>\n",
       "      <td>5.91</td>\n",
       "      <td>2003</td>\n",
       "      <td>7.00</td>\n",
       "      <td>0.00</td>\n",
       "      <td>2765.00</td>\n",
       "      <td>29.70</td>\n",
       "      <td>w</td>\n",
       "      <td>Individual</td>\n",
       "      <td>2.00</td>\n",
       "      <td>2.00</td>\n",
       "      <td>0.00</td>\n",
       "      <td>36.00</td>\n",
       "      <td>3.00</td>\n",
       "      <td>3.00</td>\n",
       "      <td>1.00</td>\n",
       "      <td>4.00</td>\n",
       "      <td>148.00</td>\n",
       "      <td>1.00</td>\n",
       "      <td>gerencia_diretoria</td>\n",
       "      <td>677.00</td>\n",
       "    </tr>\n",
       "    <tr>\n",
       "      <th>1</th>\n",
       "      <td>68355089</td>\n",
       "      <td>24700.00</td>\n",
       "      <td>36 months</td>\n",
       "      <td>11.99</td>\n",
       "      <td>C</td>\n",
       "      <td>C1</td>\n",
       "      <td>engineer</td>\n",
       "      <td>10+ years</td>\n",
       "      <td>MORTGAGE</td>\n",
       "      <td>65000.00</td>\n",
       "      <td>Not Verified</td>\n",
       "      <td>2015-12-01</td>\n",
       "      <td>0</td>\n",
       "      <td>small_business</td>\n",
       "      <td>Business</td>\n",
       "      <td>SD</td>\n",
       "      <td>16.06</td>\n",
       "      <td>1999</td>\n",
       "      <td>22.00</td>\n",
       "      <td>0.00</td>\n",
       "      <td>21470.00</td>\n",
       "      <td>19.20</td>\n",
       "      <td>w</td>\n",
       "      <td>Individual</td>\n",
       "      <td>1.00</td>\n",
       "      <td>1.00</td>\n",
       "      <td>0.00</td>\n",
       "      <td>73.00</td>\n",
       "      <td>2.00</td>\n",
       "      <td>0.00</td>\n",
       "      <td>0.00</td>\n",
       "      <td>6.00</td>\n",
       "      <td>113.00</td>\n",
       "      <td>4.00</td>\n",
       "      <td>engenharia</td>\n",
       "      <td>717.00</td>\n",
       "    </tr>\n",
       "    <tr>\n",
       "      <th>2</th>\n",
       "      <td>68341763</td>\n",
       "      <td>20000.00</td>\n",
       "      <td>60 months</td>\n",
       "      <td>10.78</td>\n",
       "      <td>B</td>\n",
       "      <td>B4</td>\n",
       "      <td>truck driver</td>\n",
       "      <td>10+ years</td>\n",
       "      <td>MORTGAGE</td>\n",
       "      <td>63000.00</td>\n",
       "      <td>Not Verified</td>\n",
       "      <td>2015-12-01</td>\n",
       "      <td>0</td>\n",
       "      <td>home_improvement</td>\n",
       "      <td>NaN</td>\n",
       "      <td>IL</td>\n",
       "      <td>10.78</td>\n",
       "      <td>2000</td>\n",
       "      <td>6.00</td>\n",
       "      <td>0.00</td>\n",
       "      <td>7869.00</td>\n",
       "      <td>56.20</td>\n",
       "      <td>w</td>\n",
       "      <td>Joint App</td>\n",
       "      <td>0.00</td>\n",
       "      <td>1.00</td>\n",
       "      <td>0.00</td>\n",
       "      <td>73.00</td>\n",
       "      <td>0.00</td>\n",
       "      <td>2.00</td>\n",
       "      <td>5.00</td>\n",
       "      <td>1.00</td>\n",
       "      <td>125.00</td>\n",
       "      <td>5.00</td>\n",
       "      <td>autonomo</td>\n",
       "      <td>697.00</td>\n",
       "    </tr>\n",
       "    <tr>\n",
       "      <th>3</th>\n",
       "      <td>68476807</td>\n",
       "      <td>10400.00</td>\n",
       "      <td>60 months</td>\n",
       "      <td>22.45</td>\n",
       "      <td>F</td>\n",
       "      <td>F1</td>\n",
       "      <td>contract specialist</td>\n",
       "      <td>3 years</td>\n",
       "      <td>MORTGAGE</td>\n",
       "      <td>104433.00</td>\n",
       "      <td>Source Verified</td>\n",
       "      <td>2015-12-01</td>\n",
       "      <td>0</td>\n",
       "      <td>major_purchase</td>\n",
       "      <td>Major purchase</td>\n",
       "      <td>PA</td>\n",
       "      <td>25.37</td>\n",
       "      <td>1998</td>\n",
       "      <td>12.00</td>\n",
       "      <td>0.00</td>\n",
       "      <td>21929.00</td>\n",
       "      <td>64.50</td>\n",
       "      <td>w</td>\n",
       "      <td>Individual</td>\n",
       "      <td>1.00</td>\n",
       "      <td>3.00</td>\n",
       "      <td>0.00</td>\n",
       "      <td>84.00</td>\n",
       "      <td>4.00</td>\n",
       "      <td>2.00</td>\n",
       "      <td>1.00</td>\n",
       "      <td>3.00</td>\n",
       "      <td>128.00</td>\n",
       "      <td>6.00</td>\n",
       "      <td>area_tecnica</td>\n",
       "      <td>697.00</td>\n",
       "    </tr>\n",
       "    <tr>\n",
       "      <th>4</th>\n",
       "      <td>68426831</td>\n",
       "      <td>11950.00</td>\n",
       "      <td>36 months</td>\n",
       "      <td>13.44</td>\n",
       "      <td>C</td>\n",
       "      <td>C3</td>\n",
       "      <td>veterinary tecnician</td>\n",
       "      <td>4 years</td>\n",
       "      <td>RENT</td>\n",
       "      <td>34000.00</td>\n",
       "      <td>Source Verified</td>\n",
       "      <td>2015-12-01</td>\n",
       "      <td>0</td>\n",
       "      <td>debt_consolidation</td>\n",
       "      <td>Debt consolidation</td>\n",
       "      <td>GA</td>\n",
       "      <td>10.20</td>\n",
       "      <td>1987</td>\n",
       "      <td>5.00</td>\n",
       "      <td>0.00</td>\n",
       "      <td>8822.00</td>\n",
       "      <td>68.40</td>\n",
       "      <td>w</td>\n",
       "      <td>Individual</td>\n",
       "      <td>0.00</td>\n",
       "      <td>1.00</td>\n",
       "      <td>0.00</td>\n",
       "      <td>99.00</td>\n",
       "      <td>0.00</td>\n",
       "      <td>0.00</td>\n",
       "      <td>0.00</td>\n",
       "      <td>0.00</td>\n",
       "      <td>338.00</td>\n",
       "      <td>0.00</td>\n",
       "      <td>outro</td>\n",
       "      <td>692.00</td>\n",
       "    </tr>\n",
       "  </tbody>\n",
       "</table>\n",
       "</div>"
      ],
      "text/plain": [
       "         id  volume_emp      prazo  taxa_juros score sub_score          nome_emprego anos_emprego casa_propria  renda_anual status_verificacao mes_inic_emp  status_emp       proposito_emp          titulo_emp estado_endereco  razao_pag_inc  primeira_linha_cred  linhas_cred_abertas  reg_pub_depreciativos  saldo_rot_total  taxa_uso_linha_rot status_init    tipo_emp  linhas_abertas_m6  \\\n",
       "0  68407277     3600.00  36 months       13.99     C        C4               leadman    10+ years     MORTGAGE     55000.00       Not Verified   2015-12-01           0  debt_consolidation  Debt consolidation              PA           5.91                 2003                 7.00                   0.00          2765.00               29.70           w  Individual               2.00   \n",
       "1  68355089    24700.00  36 months       11.99     C        C1              engineer    10+ years     MORTGAGE     65000.00       Not Verified   2015-12-01           0      small_business            Business              SD          16.06                 1999                22.00                   0.00         21470.00               19.20           w  Individual               1.00   \n",
       "2  68341763    20000.00  60 months       10.78     B        B4          truck driver    10+ years     MORTGAGE     63000.00       Not Verified   2015-12-01           0    home_improvement                 NaN              IL          10.78                 2000                 6.00                   0.00          7869.00               56.20           w   Joint App               0.00   \n",
       "3  68476807    10400.00  60 months       22.45     F        F1   contract specialist      3 years     MORTGAGE    104433.00    Source Verified   2015-12-01           0      major_purchase      Major purchase              PA          25.37                 1998                12.00                   0.00         21929.00               64.50           w  Individual               1.00   \n",
       "4  68426831    11950.00  36 months       13.44     C        C3  veterinary tecnician      4 years         RENT     34000.00    Source Verified   2015-12-01           0  debt_consolidation  Debt consolidation              GA          10.20                 1987                 5.00                   0.00          8822.00               68.40           w  Individual               0.00   \n",
       "\n",
       "   prest_abertas  prest_abertas_m12  razao_saldo_lim_cred  negociacoes_abertas_m12  qtd_consultas_cred  qtd_negociacoes_cred  qtd_consultas_cred_m12  meses_primeira_abert_prestacoes  qtd_hipotecas   emprego_categoria  fico_score  \n",
       "0           2.00               0.00                 36.00                     3.00                3.00                  1.00                    4.00                           148.00           1.00  gerencia_diretoria      677.00  \n",
       "1           1.00               0.00                 73.00                     2.00                0.00                  0.00                    6.00                           113.00           4.00          engenharia      717.00  \n",
       "2           1.00               0.00                 73.00                     0.00                2.00                  5.00                    1.00                           125.00           5.00            autonomo      697.00  \n",
       "3           3.00               0.00                 84.00                     4.00                2.00                  1.00                    3.00                           128.00           6.00        area_tecnica      697.00  \n",
       "4           1.00               0.00                 99.00                     0.00                0.00                  0.00                    0.00                           338.00           0.00               outro      692.00  "
      ]
     },
     "execution_count": 4,
     "metadata": {},
     "output_type": "execute_result"
    }
   ],
   "source": [
    "print(df1.shape)\n",
    "df1.head()"
   ]
  },
  {
   "cell_type": "markdown",
   "id": "cloudy-recommendation",
   "metadata": {},
   "source": [
    "# Quebra de treino e teste"
   ]
  },
  {
   "cell_type": "code",
   "execution_count": 5,
   "id": "cordless-groove",
   "metadata": {},
   "outputs": [],
   "source": [
    "df2 = df1.copy()"
   ]
  },
  {
   "cell_type": "code",
   "execution_count": 6,
   "id": "charitable-liberal",
   "metadata": {},
   "outputs": [],
   "source": [
    "train = df2.query('mes_inic_emp <= \"2017-12-01\"').copy()\n",
    "test = df2.query('mes_inic_emp > \"2017-12-01\"').copy()"
   ]
  },
  {
   "cell_type": "code",
   "execution_count": 7,
   "id": "postal-grass",
   "metadata": {},
   "outputs": [],
   "source": [
    "df2.drop(['mes_inic_emp', 'nome_emprego'], axis=1, inplace=True)"
   ]
  },
  {
   "cell_type": "code",
   "execution_count": 8,
   "id": "acquired-dairy",
   "metadata": {},
   "outputs": [
    {
     "data": {
      "text/plain": [
       "(805756, 36)"
      ]
     },
     "execution_count": 8,
     "metadata": {},
     "output_type": "execute_result"
    }
   ],
   "source": [
    "train.shape"
   ]
  },
  {
   "cell_type": "code",
   "execution_count": 9,
   "id": "adverse-mixer",
   "metadata": {},
   "outputs": [
    {
     "data": {
      "text/plain": [
       "(56318, 36)"
      ]
     },
     "execution_count": 9,
     "metadata": {},
     "output_type": "execute_result"
    }
   ],
   "source": [
    "test.shape"
   ]
  },
  {
   "cell_type": "code",
   "execution_count": 10,
   "id": "straight-union",
   "metadata": {},
   "outputs": [],
   "source": [
    "# Utilizando as seguintes variáveis:\n",
    "target = 'status_emp'\n",
    "\n",
    "cat_vars = [\n",
    "    'prazo',\n",
    "     'score',\n",
    "     'sub_score',\n",
    "     'emprego_categoria',\n",
    "     'anos_emprego',\n",
    "     'casa_propria',\n",
    "     'status_verificacao',\n",
    "     #'mes_inic_emp',\n",
    "     'proposito_emp',\n",
    "     #'titulo_emp',\n",
    "     'estado_endereco',\n",
    "     'status_init',\n",
    "     'tipo_emp'\n",
    "]\n",
    "\n",
    "num_vars = [\n",
    "    #'id',\n",
    "     'volume_emp',\n",
    "     'taxa_juros',\n",
    "     'renda_anual',\n",
    "     'razao_pag_inc',\n",
    "     'primeira_linha_cred',\n",
    "     'linhas_cred_abertas',\n",
    "     'reg_pub_depreciativos',\n",
    "     'saldo_rot_total',\n",
    "     'taxa_uso_linha_rot',\n",
    "     'linhas_abertas_m6',\n",
    "     'prest_abertas',\n",
    "     'prest_abertas_m12',\n",
    "     'razao_saldo_lim_cred',\n",
    "     'negociacoes_abertas_m12',\n",
    "     'qtd_consultas_cred',\n",
    "     'qtd_negociacoes_cred',\n",
    "     'qtd_consultas_cred_m12',\n",
    "     'meses_primeira_abert_prestacoes',\n",
    "     'qtd_hipotecas',\n",
    "     'fico_score'\n",
    "]\n",
    "\n",
    "features = num_vars + cat_vars"
   ]
  },
  {
   "cell_type": "code",
   "execution_count": 11,
   "id": "combined-christianity",
   "metadata": {},
   "outputs": [],
   "source": [
    "# filtrando as colunas com as features\n",
    "df_train = train[features]\n",
    "\n",
    "# filtrando o target\n",
    "y_train = train[target]"
   ]
  },
  {
   "cell_type": "code",
   "execution_count": 12,
   "id": "fuzzy-syracuse",
   "metadata": {},
   "outputs": [],
   "source": [
    "# Base teste\n",
    "df_test = test[features]\n",
    "\n",
    "# filtrando o target\n",
    "y_test = test[target]"
   ]
  },
  {
   "cell_type": "markdown",
   "id": "selective-jamaica",
   "metadata": {},
   "source": [
    "# Definindo o Pipeline de DataPrep"
   ]
  },
  {
   "cell_type": "code",
   "execution_count": 13,
   "id": "metric-inspector",
   "metadata": {},
   "outputs": [],
   "source": [
    "dataprep_pipe = Pipeline(steps=[\n",
    "                ('numeric_imputer', MeanMedianImputer( variables = num_vars, imputation_method = 'mean' ) ), \n",
    "                ('numeric_scaler', SklearnTransformerWrapper(variables = num_vars, transformer = StandardScaler() ) ), \n",
    "                ('categoric_imputer', CategoricalImputer( variables = cat_vars, fill_value = 'missing' ) ), \n",
    "                ('one_hot_encoder', OneHotEncoder( variables = cat_vars, drop_last=True) )\n",
    "])\n",
    "\n",
    "X_train = dataprep_pipe.fit_transform(df_train)\n",
    "X_test = dataprep_pipe.transform(df_test)"
   ]
  },
  {
   "cell_type": "markdown",
   "id": "twelve-fight",
   "metadata": {},
   "source": [
    "# Modelos"
   ]
  },
  {
   "cell_type": "markdown",
   "id": "lucky-delhi",
   "metadata": {},
   "source": [
    "- Regressão Logística\n",
    "- Árvore de decisão\n",
    "- Random Forest\n",
    "- Catboost"
   ]
  },
  {
   "cell_type": "markdown",
   "id": "reasonable-bridges",
   "metadata": {},
   "source": [
    "# 1 - Regressão Logística\n",
    "\n",
    "Usarei duas bibliotecas diferentes, do sklearn e do statsmodels"
   ]
  },
  {
   "cell_type": "markdown",
   "id": "horizontal-congo",
   "metadata": {},
   "source": [
    "## 1.1 - SKLEARN"
   ]
  },
  {
   "cell_type": "markdown",
   "id": "hourly-findings",
   "metadata": {},
   "source": [
    "### I. Modelo"
   ]
  },
  {
   "cell_type": "code",
   "execution_count": 14,
   "id": "christian-davis",
   "metadata": {},
   "outputs": [],
   "source": [
    "lr_model = LogisticRegression(class_weight='balanced', random_state=42)"
   ]
  },
  {
   "cell_type": "markdown",
   "id": "laden-violence",
   "metadata": {},
   "source": [
    "### II. Validação cruzada"
   ]
  },
  {
   "cell_type": "code",
   "execution_count": 15,
   "id": "controversial-hopkins",
   "metadata": {},
   "outputs": [],
   "source": [
    "skf = StratifiedKFold(\n",
    "        n_splits=5, \n",
    "        shuffle=False\n",
    ")\n",
    "\n",
    "cv_results_lr = cross_validate(\n",
    "        estimator = lr_model, \n",
    "        X = X_train,\n",
    "        y = y_train, \n",
    "        scoring = ['accuracy', 'precision', 'recall', 'f1', 'roc_auc'], \n",
    "        cv = skf, \n",
    "        n_jobs = -1\n",
    ")\n",
    "\n",
    "\n",
    "#salvando resultados\n",
    "lr_model_results = pd.DataFrame(cv_results_lr)"
   ]
  },
  {
   "cell_type": "markdown",
   "id": "bound-nudist",
   "metadata": {},
   "source": [
    "### III. Resultados"
   ]
  },
  {
   "cell_type": "code",
   "execution_count": 16,
   "id": "latest-builder",
   "metadata": {},
   "outputs": [
    {
     "data": {
      "text/html": [
       "<div>\n",
       "<style scoped>\n",
       "    .dataframe tbody tr th:only-of-type {\n",
       "        vertical-align: middle;\n",
       "    }\n",
       "\n",
       "    .dataframe tbody tr th {\n",
       "        vertical-align: top;\n",
       "    }\n",
       "\n",
       "    .dataframe thead th {\n",
       "        text-align: right;\n",
       "    }\n",
       "</style>\n",
       "<table border=\"1\" class=\"dataframe\">\n",
       "  <thead>\n",
       "    <tr style=\"text-align: right;\">\n",
       "      <th></th>\n",
       "      <th>fit_time</th>\n",
       "      <th>score_time</th>\n",
       "      <th>test_accuracy</th>\n",
       "      <th>test_precision</th>\n",
       "      <th>test_recall</th>\n",
       "      <th>test_f1</th>\n",
       "      <th>test_roc_auc</th>\n",
       "    </tr>\n",
       "  </thead>\n",
       "  <tbody>\n",
       "    <tr>\n",
       "      <th>0</th>\n",
       "      <td>104.73</td>\n",
       "      <td>1.57</td>\n",
       "      <td>0.67</td>\n",
       "      <td>0.37</td>\n",
       "      <td>0.68</td>\n",
       "      <td>0.48</td>\n",
       "      <td>0.74</td>\n",
       "    </tr>\n",
       "    <tr>\n",
       "      <th>1</th>\n",
       "      <td>100.54</td>\n",
       "      <td>1.90</td>\n",
       "      <td>0.65</td>\n",
       "      <td>0.35</td>\n",
       "      <td>0.70</td>\n",
       "      <td>0.47</td>\n",
       "      <td>0.73</td>\n",
       "    </tr>\n",
       "    <tr>\n",
       "      <th>2</th>\n",
       "      <td>98.55</td>\n",
       "      <td>3.35</td>\n",
       "      <td>0.65</td>\n",
       "      <td>0.34</td>\n",
       "      <td>0.66</td>\n",
       "      <td>0.45</td>\n",
       "      <td>0.71</td>\n",
       "    </tr>\n",
       "    <tr>\n",
       "      <th>3</th>\n",
       "      <td>101.80</td>\n",
       "      <td>1.31</td>\n",
       "      <td>0.66</td>\n",
       "      <td>0.36</td>\n",
       "      <td>0.68</td>\n",
       "      <td>0.47</td>\n",
       "      <td>0.73</td>\n",
       "    </tr>\n",
       "    <tr>\n",
       "      <th>4</th>\n",
       "      <td>25.06</td>\n",
       "      <td>0.66</td>\n",
       "      <td>0.62</td>\n",
       "      <td>0.33</td>\n",
       "      <td>0.68</td>\n",
       "      <td>0.44</td>\n",
       "      <td>0.70</td>\n",
       "    </tr>\n",
       "  </tbody>\n",
       "</table>\n",
       "</div>"
      ],
      "text/plain": [
       "   fit_time  score_time  test_accuracy  test_precision  test_recall  test_f1  test_roc_auc\n",
       "0    104.73        1.57           0.67            0.37         0.68     0.48          0.74\n",
       "1    100.54        1.90           0.65            0.35         0.70     0.47          0.73\n",
       "2     98.55        3.35           0.65            0.34         0.66     0.45          0.71\n",
       "3    101.80        1.31           0.66            0.36         0.68     0.47          0.73\n",
       "4     25.06        0.66           0.62            0.33         0.68     0.44          0.70"
      ]
     },
     "execution_count": 16,
     "metadata": {},
     "output_type": "execute_result"
    }
   ],
   "source": [
    "lr_model_results"
   ]
  },
  {
   "cell_type": "code",
   "execution_count": 17,
   "id": "straight-exemption",
   "metadata": {},
   "outputs": [],
   "source": [
    "accuracy = lr_model_results.mean().loc['test_accuracy']\n",
    "precision = lr_model_results.mean().loc['test_precision']\n",
    "recall = lr_model_results.mean().loc['test_recall']\n",
    "f1 = lr_model_results.mean().loc['test_f1']\n",
    "roc_auc = lr_model_results.mean().loc['test_roc_auc']"
   ]
  },
  {
   "cell_type": "code",
   "execution_count": 18,
   "id": "honest-difficulty",
   "metadata": {},
   "outputs": [],
   "source": [
    "# criando uma tabela vazia que irá conter os resultados dos modelos\n",
    "df_metrics = {'model': [], 'accuracy': [], 'precision': [], 'recall': [], 'f1': [],'roc_auc': []}"
   ]
  },
  {
   "cell_type": "code",
   "execution_count": 19,
   "id": "elder-examination",
   "metadata": {},
   "outputs": [],
   "source": [
    "# populando a tabela com os resultados da regressão logística\n",
    "df_metrics['model'].append('Logistic Regression')\n",
    "df_metrics['accuracy'].append(accuracy)\n",
    "df_metrics['precision'].append(precision)\n",
    "df_metrics['recall'].append(recall)\n",
    "df_metrics['f1'].append(f1)\n",
    "df_metrics['roc_auc'].append(roc_auc)"
   ]
  },
  {
   "cell_type": "code",
   "execution_count": 20,
   "id": "identical-census",
   "metadata": {},
   "outputs": [
    {
     "data": {
      "text/html": [
       "<div>\n",
       "<style scoped>\n",
       "    .dataframe tbody tr th:only-of-type {\n",
       "        vertical-align: middle;\n",
       "    }\n",
       "\n",
       "    .dataframe tbody tr th {\n",
       "        vertical-align: top;\n",
       "    }\n",
       "\n",
       "    .dataframe thead th {\n",
       "        text-align: right;\n",
       "    }\n",
       "</style>\n",
       "<table border=\"1\" class=\"dataframe\">\n",
       "  <thead>\n",
       "    <tr style=\"text-align: right;\">\n",
       "      <th></th>\n",
       "      <th>model</th>\n",
       "      <th>accuracy</th>\n",
       "      <th>precision</th>\n",
       "      <th>recall</th>\n",
       "      <th>f1</th>\n",
       "      <th>roc_auc</th>\n",
       "    </tr>\n",
       "  </thead>\n",
       "  <tbody>\n",
       "    <tr>\n",
       "      <th>0</th>\n",
       "      <td>Logistic Regression</td>\n",
       "      <td>0.65</td>\n",
       "      <td>0.35</td>\n",
       "      <td>0.68</td>\n",
       "      <td>0.46</td>\n",
       "      <td>0.72</td>\n",
       "    </tr>\n",
       "  </tbody>\n",
       "</table>\n",
       "</div>"
      ],
      "text/plain": [
       "                 model  accuracy  precision  recall   f1  roc_auc\n",
       "0  Logistic Regression      0.65       0.35    0.68 0.46     0.72"
      ]
     },
     "execution_count": 20,
     "metadata": {},
     "output_type": "execute_result"
    }
   ],
   "source": [
    "pd.DataFrame(df_metrics)"
   ]
  },
  {
   "cell_type": "markdown",
   "id": "reflected-clear",
   "metadata": {},
   "source": [
    "### IV. Comparando a performance no teste"
   ]
  },
  {
   "cell_type": "code",
   "execution_count": 21,
   "id": "mounted-collins",
   "metadata": {},
   "outputs": [
    {
     "data": {
      "text/plain": [
       "LogisticRegression(class_weight='balanced', random_state=42)"
      ]
     },
     "execution_count": 21,
     "metadata": {},
     "output_type": "execute_result"
    }
   ],
   "source": [
    "lr_model.fit(X_train, y_train)"
   ]
  },
  {
   "cell_type": "code",
   "execution_count": 22,
   "id": "wanted-genius",
   "metadata": {},
   "outputs": [
    {
     "name": "stdout",
     "output_type": "stream",
     "text": [
      "ROC AUC on train: 0.7250765976546647\n",
      "ROC AUC on test: 0.708622446824466\n"
     ]
    }
   ],
   "source": [
    "y_pred_test_lr = lr_model.predict_proba(X_test)[:,1]\n",
    "y_pred_train_lr = lr_model.predict_proba(X_train)[:,1]\n",
    "\n",
    "print('ROC AUC on train: {}'.format(roc_auc_score(y_train, y_pred_train_lr)))\n",
    "print('ROC AUC on test: {}'.format(roc_auc_score(y_test, y_pred_test_lr)))"
   ]
  },
  {
   "cell_type": "markdown",
   "id": "extensive-volunteer",
   "metadata": {},
   "source": [
    "### 1.2 -  STATSMODELS"
   ]
  },
  {
   "cell_type": "markdown",
   "id": "pleasant-valuable",
   "metadata": {},
   "source": [
    "### I. Modelo"
   ]
  },
  {
   "cell_type": "code",
   "execution_count": 23,
   "id": "powerful-necessity",
   "metadata": {
    "scrolled": true
   },
   "outputs": [
    {
     "name": "stdout",
     "output_type": "stream",
     "text": [
      "Warning: Maximum number of iterations has been exceeded.\n",
      "         Current function value: 0.469871\n",
      "         Iterations: 35\n",
      "                           Logit Regression Results                           \n",
      "==============================================================================\n",
      "Dep. Variable:             status_emp   No. Observations:               805756\n",
      "Model:                          Logit   Df Residuals:                   805605\n",
      "Method:                           MLE   Df Model:                          150\n",
      "Date:                Mon, 10 Jan 2022   Pseudo R-squ.:                  0.1069\n",
      "Time:                        20:33:00   Log-Likelihood:            -3.7860e+05\n",
      "converged:                      False   LL-Null:                   -4.2393e+05\n",
      "Covariance Type:            nonrobust   LLR p-value:                     0.000\n",
      "=========================================================================================================\n",
      "                                            coef    std err          z      P>|z|      [0.025      0.975]\n",
      "---------------------------------------------------------------------------------------------------------\n",
      "const                                   -28.4512   6915.199     -0.004      0.997   -1.36e+04    1.35e+04\n",
      "volume_emp                                0.1110      0.004     29.493      0.000       0.104       0.118\n",
      "taxa_juros                                0.1740      0.014     12.753      0.000       0.147       0.201\n",
      "renda_anual                              -0.0572      0.006     -9.445      0.000      -0.069      -0.045\n",
      "razao_pag_inc                             0.1068      0.004     25.420      0.000       0.099       0.115\n",
      "primeira_linha_cred                       0.0002      0.003      0.044      0.965      -0.007       0.007\n",
      "linhas_cred_abertas                       0.1070      0.004     28.732      0.000       0.100       0.114\n",
      "reg_pub_depreciativos                     0.0088      0.003      3.087      0.002       0.003       0.014\n",
      "saldo_rot_total                          -0.0742      0.005    -16.090      0.000      -0.083      -0.065\n",
      "taxa_uso_linha_rot                        0.0418      0.004     11.082      0.000       0.034       0.049\n",
      "linhas_abertas_m6                         0.0371      0.004      9.581      0.000       0.029       0.045\n",
      "prest_abertas                            -0.0493      0.003    -14.324      0.000      -0.056      -0.043\n",
      "prest_abertas_m12                        -0.0019      0.003     -0.559      0.576      -0.009       0.005\n",
      "razao_saldo_lim_cred                      0.0143      0.003      4.479      0.000       0.008       0.021\n",
      "negociacoes_abertas_m12                   0.0052      0.004      1.363      0.173      -0.002       0.013\n",
      "qtd_consultas_cred                        0.0111      0.003      3.326      0.001       0.005       0.018\n",
      "qtd_negociacoes_cred                     -0.0281      0.003     -9.238      0.000      -0.034      -0.022\n",
      "qtd_consultas_cred_m12                    0.0122      0.004      3.408      0.001       0.005       0.019\n",
      "meses_primeira_abert_prestacoes          -0.0073      0.003     -2.341      0.019      -0.013      -0.001\n",
      "qtd_hipotecas                            -0.1339      0.004    -34.927      0.000      -0.141      -0.126\n",
      "fico_score                               -0.1533      0.004    -35.982      0.000      -0.162      -0.145\n",
      "prazo_36 months                          -0.5333      0.008    -68.887      0.000      -0.548      -0.518\n",
      "score_C                                  -0.2721   3.36e+05  -8.11e-07      1.000   -6.58e+05    6.58e+05\n",
      "score_B                                  -0.5665   1.25e+05  -4.54e-06      1.000   -2.45e+05    2.45e+05\n",
      "score_F                                   0.0148        nan        nan        nan         nan         nan\n",
      "score_A                                  -1.0402        nan        nan        nan         nan         nan\n",
      "score_E                                  -0.0566        nan        nan        nan         nan         nan\n",
      "score_D                                  -0.1116   1.32e+05  -8.45e-07      1.000   -2.59e+05    2.59e+05\n",
      "sub_score_C4                              0.0014   3.33e+05   4.24e-09      1.000   -6.53e+05    6.53e+05\n",
      "sub_score_C1                             -0.1472   3.36e+05  -4.38e-07      1.000   -6.58e+05    6.58e+05\n",
      "sub_score_B4                             -0.0294   1.25e+05  -2.35e-07      1.000   -2.45e+05    2.45e+05\n",
      "sub_score_F1                             -0.0832        nan        nan        nan         nan         nan\n",
      "sub_score_C3                             -0.0627   3.34e+05  -1.88e-07      1.000   -6.55e+05    6.55e+05\n",
      "sub_score_B2                             -0.2191   1.25e+05  -1.75e-06      1.000   -2.45e+05    2.45e+05\n",
      "sub_score_B1                             -0.2363   1.25e+05  -1.89e-06      1.000   -2.45e+05    2.45e+05\n",
      "sub_score_A2                             -0.3113        nan        nan        nan         nan         nan\n",
      "sub_score_B5                              0.0464   1.25e+05   3.71e-07      1.000   -2.45e+05    2.45e+05\n",
      "sub_score_C2                             -0.0887   3.34e+05  -2.65e-07      1.000   -6.55e+05    6.55e+05\n",
      "sub_score_E2                              0.0078        nan        nan        nan         nan         nan\n",
      "sub_score_A4                             -0.0586        nan        nan        nan         nan         nan\n",
      "sub_score_E3                             -0.0169        nan        nan        nan         nan         nan\n",
      "sub_score_C5                              0.0251   3.36e+05   7.48e-08      1.000   -6.58e+05    6.58e+05\n",
      "sub_score_A1                             -0.5422        nan        nan        nan         nan         nan\n",
      "sub_score_D4                              0.0016   1.32e+05   1.19e-08      1.000   -2.59e+05    2.59e+05\n",
      "sub_score_F3                             -0.0294        nan        nan        nan         nan         nan\n",
      "sub_score_D1                             -0.0608   1.32e+05   -4.6e-07      1.000   -2.59e+05    2.59e+05\n",
      "sub_score_B3                             -0.1280   1.25e+05  -1.03e-06      1.000   -2.45e+05    2.45e+05\n",
      "sub_score_D3                             -0.0194   1.32e+05  -1.47e-07      1.000   -2.59e+05    2.59e+05\n",
      "sub_score_D5                             -0.0111   1.32e+05  -8.41e-08      1.000   -2.59e+05    2.59e+05\n",
      "sub_score_A5                              0.0534        nan        nan        nan         nan         nan\n",
      "sub_score_F2                              0.0266        nan        nan        nan         nan         nan\n",
      "sub_score_E4                             -0.0141        nan        nan        nan         nan         nan\n",
      "sub_score_D2                             -0.0219   1.32e+05  -1.66e-07      1.000   -2.59e+05    2.59e+05\n",
      "sub_score_E1                             -0.0308        nan        nan        nan         nan         nan\n",
      "sub_score_F5                              0.0657        nan        nan        nan         nan         nan\n",
      "sub_score_E5                             -0.0026        nan        nan        nan         nan         nan\n",
      "sub_score_A3                             -0.1814        nan        nan        nan         nan         nan\n",
      "sub_score_G2                             -0.0218      0.093     -0.234      0.815      -0.205       0.161\n",
      "sub_score_G1                             -0.1230      0.088     -1.394      0.163      -0.296       0.050\n",
      "sub_score_G3                              0.0033      0.098      0.034      0.973      -0.188       0.195\n",
      "sub_score_G4                             -0.0305      0.101     -0.303      0.762      -0.228       0.167\n",
      "sub_score_F4                              0.0351        nan        nan        nan         nan         nan\n",
      "emprego_categoria_gerencia_diretoria     -0.1964      0.038     -5.102      0.000      -0.272      -0.121\n",
      "emprego_categoria_engenharia             -0.1874      0.041     -4.581      0.000      -0.268      -0.107\n",
      "emprego_categoria_autonomo                0.2902      0.040      7.274      0.000       0.212       0.368\n",
      "emprego_categoria_area_tecnica           -0.1971      0.038     -5.121      0.000      -0.273      -0.122\n",
      "emprego_categoria_outro                  -0.0728      0.038     -1.901      0.057      -0.148       0.002\n",
      "emprego_categoria_comercial              -0.1430      0.040     -3.607      0.000      -0.221      -0.065\n",
      "emprego_categoria_banco                  -0.4218      0.047     -8.973      0.000      -0.514      -0.330\n",
      "emprego_categoria_direito                -0.4026      0.043     -9.452      0.000      -0.486      -0.319\n",
      "emprego_categoria_funcionario publico    -0.1280      0.042     -3.027      0.002      -0.211      -0.045\n",
      "emprego_categoria_gerais                 -0.1042      0.039     -2.646      0.008      -0.181      -0.027\n",
      "emprego_categoria_area_medica            -0.1758      0.042     -4.231      0.000      -0.257      -0.094\n",
      "emprego_categoria_educacao               -0.1484      0.041     -3.580      0.000      -0.230      -0.067\n",
      "emprego_categoria_militar                -0.5751      0.090     -6.362      0.000      -0.752      -0.398\n",
      "emprego_categoria_financeira             -0.2780      0.041     -6.728      0.000      -0.359      -0.197\n",
      "anos_emprego_10+ years                   -0.4666      0.013    -35.519      0.000      -0.492      -0.441\n",
      "anos_emprego_3 years                     -0.4334      0.016    -27.223      0.000      -0.465      -0.402\n",
      "anos_emprego_4 years                     -0.4467      0.017    -26.258      0.000      -0.480      -0.413\n",
      "anos_emprego_6 years                     -0.4783      0.019    -25.500      0.000      -0.515      -0.442\n",
      "anos_emprego_7 years                     -0.4513      0.019    -23.491      0.000      -0.489      -0.414\n",
      "anos_emprego_8 years                     -0.4340      0.018    -23.622      0.000      -0.470      -0.398\n",
      "anos_emprego_2 years                     -0.4477      0.016    -28.723      0.000      -0.478      -0.417\n",
      "anos_emprego_5 years                     -0.4504      0.017    -26.633      0.000      -0.484      -0.417\n",
      "anos_emprego_9 years                     -0.4514      0.019    -23.581      0.000      -0.489      -0.414\n",
      "anos_emprego_< 1 year                    -0.4028      0.016    -25.467      0.000      -0.434      -0.372\n",
      "anos_emprego_1 year                      -0.4014      0.016    -24.351      0.000      -0.434      -0.369\n",
      "casa_propria_MORTGAGE                    11.1548    322.869      0.035      0.972    -621.658     643.967\n",
      "casa_propria_RENT                        11.4641    322.869      0.036      0.972    -621.348     644.276\n",
      "casa_propria_OWN                         11.2798    322.869      0.035      0.972    -621.533     644.092\n",
      "casa_propria_ANY                         11.2639    322.869      0.035      0.972    -621.549     644.076\n",
      "status_verificacao_Not Verified          -0.1294      0.008    -15.757      0.000      -0.146      -0.113\n",
      "status_verificacao_Source Verified       -0.0380      0.007     -5.538      0.000      -0.051      -0.025\n",
      "proposito_emp_debt_consolidation         16.9377   6907.598      0.002      0.998   -1.35e+04    1.36e+04\n",
      "proposito_emp_small_business             17.2440   6907.598      0.002      0.998   -1.35e+04    1.36e+04\n",
      "proposito_emp_home_improvement           17.0139   6907.598      0.002      0.998   -1.35e+04    1.36e+04\n",
      "proposito_emp_major_purchase             17.0104   6907.598      0.002      0.998   -1.35e+04    1.36e+04\n",
      "proposito_emp_credit_card                16.9219   6907.598      0.002      0.998   -1.35e+04    1.36e+04\n",
      "proposito_emp_other                      16.9421   6907.598      0.002      0.998   -1.35e+04    1.36e+04\n",
      "proposito_emp_house                      16.8363   6907.598      0.002      0.998   -1.35e+04    1.36e+04\n",
      "proposito_emp_vacation                   16.9959   6907.598      0.002      0.998   -1.35e+04    1.36e+04\n",
      "proposito_emp_car                        16.8354   6907.598      0.002      0.998   -1.35e+04    1.36e+04\n",
      "proposito_emp_medical                    17.1063   6907.598      0.002      0.998   -1.35e+04    1.36e+04\n",
      "proposito_emp_moving                     16.9946   6907.598      0.002      0.998   -1.35e+04    1.36e+04\n",
      "proposito_emp_renewable_energy           17.1047   6907.598      0.002      0.998   -1.35e+04    1.36e+04\n",
      "proposito_emp_wedding                   -39.5684   1.52e+12  -2.61e-11      1.000   -2.98e+12    2.98e+12\n",
      "estado_endereco_PA                        0.2304      0.071      3.260      0.001       0.092       0.369\n",
      "estado_endereco_SD                        0.3007      0.093      3.238      0.001       0.119       0.483\n",
      "estado_endereco_IL                        0.1133      0.071      1.605      0.109      -0.025       0.252\n",
      "estado_endereco_GA                        0.0637      0.071      0.899      0.369      -0.075       0.203\n",
      "estado_endereco_MN                        0.2220      0.072      3.075      0.002       0.081       0.363\n",
      "estado_endereco_SC                       -0.1215      0.075     -1.628      0.104      -0.268       0.025\n",
      "estado_endereco_RI                        0.0021      0.083      0.025      0.980      -0.160       0.164\n",
      "estado_endereco_NC                        0.2312      0.071      3.256      0.001       0.092       0.370\n",
      "estado_endereco_CA                        0.1580      0.069      2.277      0.023       0.022       0.294\n",
      "estado_endereco_VA                        0.2107      0.071      2.963      0.003       0.071       0.350\n",
      "estado_endereco_AZ                        0.1897      0.071      2.660      0.008       0.050       0.330\n",
      "estado_endereco_IN                        0.2851      0.072      3.952      0.000       0.144       0.427\n",
      "estado_endereco_MD                        0.3126      0.071      4.380      0.000       0.173       0.453\n",
      "estado_endereco_NY                        0.2660      0.070      3.816      0.000       0.129       0.403\n",
      "estado_endereco_TX                        0.2359      0.070      3.385      0.001       0.099       0.372\n",
      "estado_endereco_KS                        0.0268      0.077      0.350      0.727      -0.124       0.177\n",
      "estado_endereco_NM                        0.2781      0.079      3.531      0.000       0.124       0.433\n",
      "estado_endereco_AL                        0.3978      0.073      5.440      0.000       0.255       0.541\n",
      "estado_endereco_WA                       -0.1622      0.072     -2.245      0.025      -0.304      -0.021\n",
      "estado_endereco_OH                        0.2386      0.071      3.375      0.001       0.100       0.377\n",
      "estado_endereco_LA                        0.4798      0.073      6.531      0.000       0.336       0.624\n",
      "estado_endereco_FL                        0.2393      0.070      3.431      0.001       0.103       0.376\n",
      "estado_endereco_CO                       -0.1417      0.072     -1.965      0.049      -0.283      -0.000\n",
      "estado_endereco_MI                        0.1897      0.071      2.667      0.008       0.050       0.329\n",
      "estado_endereco_MO                        0.3150      0.072      4.345      0.000       0.173       0.457\n",
      "estado_endereco_DC                       -0.1907      0.096     -1.985      0.047      -0.379      -0.002\n",
      "estado_endereco_MA                        0.1783      0.072      2.488      0.013       0.038       0.319\n",
      "estado_endereco_WI                        0.1114      0.074      1.514      0.130      -0.033       0.256\n",
      "estado_endereco_HI                       -0.0064      0.080     -0.080      0.936      -0.164       0.151\n",
      "estado_endereco_VT                       -0.2375      0.101     -2.363      0.018      -0.435      -0.040\n",
      "estado_endereco_NJ                        0.2774      0.071      3.929      0.000       0.139       0.416\n",
      "estado_endereco_DE                        0.1281      0.088      1.461      0.144      -0.044       0.300\n",
      "estado_endereco_TN                        0.2229      0.072      3.078      0.002       0.081       0.365\n",
      "estado_endereco_NH                       -0.1627      0.083     -1.960      0.050      -0.325   -4.22e-05\n",
      "estado_endereco_NE                        0.3509      0.081      4.336      0.000       0.192       0.509\n",
      "estado_endereco_OR                       -0.3231      0.075     -4.290      0.000      -0.471      -0.175\n",
      "estado_endereco_CT                        0.0252      0.073      0.344      0.731      -0.119       0.169\n",
      "estado_endereco_AR                        0.4936      0.076      6.534      0.000       0.346       0.642\n",
      "estado_endereco_NV                        0.2414      0.073      3.328      0.001       0.099       0.384\n",
      "estado_endereco_WV                       -0.0459      0.091     -0.506      0.613      -0.224       0.132\n",
      "estado_endereco_MT                        0.0287      0.090      0.319      0.749      -0.148       0.205\n",
      "estado_endereco_WY                        0.0837      0.095      0.877      0.381      -0.103       0.271\n",
      "estado_endereco_OK                        0.4600      0.074      6.180      0.000       0.314       0.606\n",
      "estado_endereco_KY                        0.2826      0.075      3.786      0.000       0.136       0.429\n",
      "estado_endereco_MS                        0.4563      0.077      5.931      0.000       0.306       0.607\n",
      "estado_endereco_UT                        0.0048      0.077      0.063      0.950      -0.147       0.157\n",
      "estado_endereco_ND                        0.0511      0.096      0.533      0.594      -0.137       0.239\n",
      "estado_endereco_ME                       -0.3029      0.097     -3.117      0.002      -0.493      -0.112\n",
      "estado_endereco_AK                        0.2539      0.091      2.776      0.006       0.075       0.433\n",
      "status_init_w                             0.0141      0.006      2.170      0.030       0.001       0.027\n",
      "tipo_emp_Individual                       0.0932      0.019      4.882      0.000       0.056       0.131\n",
      "=========================================================================================================\n"
     ]
    }
   ],
   "source": [
    "log_reg = sm.Logit(\n",
    "    y_train, \n",
    "    sm.add_constant( \n",
    "        X_train\n",
    "    )\n",
    ").fit()\n",
    "\n",
    "print(log_reg.summary())"
   ]
  },
  {
   "cell_type": "code",
   "execution_count": 24,
   "id": "altered-plain",
   "metadata": {},
   "outputs": [],
   "source": [
    "keep_vals = log_reg.pvalues[log_reg.pvalues <= 0.05].index.tolist()"
   ]
  },
  {
   "cell_type": "code",
   "execution_count": 25,
   "id": "moving-frank",
   "metadata": {
    "scrolled": true
   },
   "outputs": [
    {
     "name": "stdout",
     "output_type": "stream",
     "text": [
      "Optimization terminated successfully.\n",
      "         Current function value: 0.473124\n",
      "         Iterations 6\n",
      "                           Logit Regression Results                           \n",
      "==============================================================================\n",
      "Dep. Variable:             status_emp   No. Observations:               805756\n",
      "Model:                          Logit   Df Residuals:                   805674\n",
      "Method:                           MLE   Df Model:                           81\n",
      "Date:                Mon, 10 Jan 2022   Pseudo R-squ.:                  0.1007\n",
      "Time:                        20:33:19   Log-Likelihood:            -3.8122e+05\n",
      "converged:                       True   LL-Null:                   -4.2393e+05\n",
      "Covariance Type:            nonrobust   LLR p-value:                     0.000\n",
      "=========================================================================================================\n",
      "                                            coef    std err          z      P>|z|      [0.025      0.975]\n",
      "---------------------------------------------------------------------------------------------------------\n",
      "const                                    -0.7778      0.024    -32.046      0.000      -0.825      -0.730\n",
      "volume_emp                                0.1048      0.004     28.387      0.000       0.098       0.112\n",
      "taxa_juros                                0.4328      0.003    123.952      0.000       0.426       0.440\n",
      "renda_anual                              -0.0719      0.006    -11.693      0.000      -0.084      -0.060\n",
      "razao_pag_inc                             0.1204      0.004     28.703      0.000       0.112       0.129\n",
      "linhas_cred_abertas                       0.0965      0.004     26.918      0.000       0.089       0.104\n",
      "reg_pub_depreciativos                     0.0083      0.003      2.905      0.004       0.003       0.014\n",
      "saldo_rot_total                          -0.0883      0.005    -18.889      0.000      -0.097      -0.079\n",
      "taxa_uso_linha_rot                        0.0411      0.004     11.014      0.000       0.034       0.048\n",
      "linhas_abertas_m6                         0.0400      0.003     13.388      0.000       0.034       0.046\n",
      "prest_abertas                            -0.0458      0.003    -13.692      0.000      -0.052      -0.039\n",
      "razao_saldo_lim_cred                      0.0149      0.003      4.783      0.000       0.009       0.021\n",
      "qtd_consultas_cred                        0.0070      0.003      2.096      0.036       0.000       0.013\n",
      "qtd_negociacoes_cred                     -0.0310      0.003    -10.334      0.000      -0.037      -0.025\n",
      "qtd_consultas_cred_m12                    0.0111      0.003      3.200      0.001       0.004       0.018\n",
      "meses_primeira_abert_prestacoes          -0.0150      0.003     -5.030      0.000      -0.021      -0.009\n",
      "qtd_hipotecas                            -0.2006      0.004    -56.996      0.000      -0.208      -0.194\n",
      "fico_score                               -0.2080      0.004    -50.655      0.000      -0.216      -0.200\n",
      "prazo_36 months                          -0.5608      0.008    -74.084      0.000      -0.576      -0.546\n",
      "emprego_categoria_gerencia_diretoria     -0.1286      0.009    -14.134      0.000      -0.146      -0.111\n",
      "emprego_categoria_engenharia             -0.1285      0.017     -7.744      0.000      -0.161      -0.096\n",
      "emprego_categoria_autonomo                0.3677      0.014     26.315      0.000       0.340       0.395\n",
      "emprego_categoria_area_tecnica           -0.1336      0.009    -14.331      0.000      -0.152      -0.115\n",
      "emprego_categoria_comercial              -0.0773      0.013     -5.850      0.000      -0.103      -0.051\n",
      "emprego_categoria_banco                  -0.3531      0.029    -12.336      0.000      -0.409      -0.297\n",
      "emprego_categoria_direito                -0.3301      0.020    -16.118      0.000      -0.370      -0.290\n",
      "emprego_categoria_funcionario publico    -0.0593      0.020     -2.988      0.003      -0.098      -0.020\n",
      "emprego_categoria_gerais                 -0.0287      0.013     -2.255      0.024      -0.054      -0.004\n",
      "emprego_categoria_area_medica            -0.1121      0.018     -6.199      0.000      -0.148      -0.077\n",
      "emprego_categoria_educacao               -0.0861      0.018     -4.810      0.000      -0.121      -0.051\n",
      "emprego_categoria_militar                -0.5079      0.082     -6.176      0.000      -0.669      -0.347\n",
      "emprego_categoria_financeira             -0.2092      0.018    -11.948      0.000      -0.244      -0.175\n",
      "anos_emprego_10+ years                   -0.4659      0.013    -36.038      0.000      -0.491      -0.441\n",
      "anos_emprego_3 years                     -0.4091      0.016    -26.215      0.000      -0.440      -0.379\n",
      "anos_emprego_4 years                     -0.4269      0.017    -25.525      0.000      -0.460      -0.394\n",
      "anos_emprego_6 years                     -0.4674      0.019    -25.243      0.000      -0.504      -0.431\n",
      "anos_emprego_7 years                     -0.4383      0.019    -23.105      0.000      -0.475      -0.401\n",
      "anos_emprego_8 years                     -0.4244      0.018    -23.415      0.000      -0.460      -0.389\n",
      "anos_emprego_2 years                     -0.4163      0.015    -27.281      0.000      -0.446      -0.386\n",
      "anos_emprego_5 years                     -0.4347      0.017    -26.135      0.000      -0.467      -0.402\n",
      "anos_emprego_9 years                     -0.4456      0.019    -23.556      0.000      -0.483      -0.409\n",
      "anos_emprego_< 1 year                    -0.3626      0.015    -23.395      0.000      -0.393      -0.332\n",
      "anos_emprego_1 year                      -0.3645      0.016    -22.536      0.000      -0.396      -0.333\n",
      "status_verificacao_Not Verified          -0.1745      0.008    -21.466      0.000      -0.190      -0.159\n",
      "status_verificacao_Source Verified       -0.0458      0.007     -6.690      0.000      -0.059      -0.032\n",
      "estado_endereco_PA                        0.1775      0.017     10.301      0.000       0.144       0.211\n",
      "estado_endereco_SD                        0.2314      0.063      3.693      0.000       0.109       0.354\n",
      "estado_endereco_MN                        0.1593      0.023      7.010      0.000       0.115       0.204\n",
      "estado_endereco_NC                        0.1598      0.019      8.635      0.000       0.124       0.196\n",
      "estado_endereco_CA                        0.1571      0.011     14.426      0.000       0.136       0.178\n",
      "estado_endereco_VA                        0.1677      0.019      8.794      0.000       0.130       0.205\n",
      "estado_endereco_AZ                        0.1482      0.020      7.472      0.000       0.109       0.187\n",
      "estado_endereco_IN                        0.2027      0.023      8.952      0.000       0.158       0.247\n",
      "estado_endereco_MD                        0.2755      0.020     13.819      0.000       0.236       0.315\n",
      "estado_endereco_NY                        0.2589      0.013     20.641      0.000       0.234       0.284\n",
      "estado_endereco_TX                        0.1742      0.013     13.910      0.000       0.150       0.199\n",
      "estado_endereco_NM                        0.2220      0.039      5.718      0.000       0.146       0.298\n",
      "estado_endereco_AL                        0.3173      0.026     12.398      0.000       0.267       0.367\n",
      "estado_endereco_WA                       -0.1881      0.023     -8.177      0.000      -0.233      -0.143\n",
      "estado_endereco_OH                        0.1669      0.017      9.609      0.000       0.133       0.201\n",
      "estado_endereco_LA                        0.3975      0.026     15.043      0.000       0.346       0.449\n",
      "estado_endereco_FL                        0.2002      0.013     15.488      0.000       0.175       0.226\n",
      "estado_endereco_CO                       -0.1827      0.022     -8.123      0.000      -0.227      -0.139\n",
      "estado_endereco_MI                        0.1196      0.019      6.284      0.000       0.082       0.157\n",
      "estado_endereco_MO                        0.2508      0.024     10.604      0.000       0.204       0.297\n",
      "estado_endereco_DC                       -0.1924      0.067     -2.866      0.004      -0.324      -0.061\n",
      "estado_endereco_MA                        0.1406      0.021      6.769      0.000       0.100       0.181\n",
      "estado_endereco_VT                       -0.2909      0.074     -3.947      0.000      -0.435      -0.146\n",
      "estado_endereco_NJ                        0.2535      0.017     15.061      0.000       0.220       0.286\n",
      "estado_endereco_TN                        0.1495      0.023      6.383      0.000       0.104       0.195\n",
      "estado_endereco_NH                       -0.2109      0.047     -4.506      0.000      -0.303      -0.119\n",
      "estado_endereco_NE                        0.2928      0.043      6.796      0.000       0.208       0.377\n",
      "estado_endereco_OR                       -0.3552      0.031    -11.334      0.000      -0.417      -0.294\n",
      "estado_endereco_AR                        0.4131      0.032     13.022      0.000       0.351       0.475\n",
      "estado_endereco_NV                        0.2142      0.024      8.996      0.000       0.168       0.261\n",
      "estado_endereco_OK                        0.3853      0.029     13.250      0.000       0.328       0.442\n",
      "estado_endereco_KY                        0.2086      0.030      7.048      0.000       0.151       0.267\n",
      "estado_endereco_MS                        0.3673      0.035     10.508      0.000       0.299       0.436\n",
      "estado_endereco_ME                       -0.3800      0.069     -5.486      0.000      -0.516      -0.244\n",
      "estado_endereco_AK                        0.2187      0.060      3.615      0.000       0.100       0.337\n",
      "status_init_w                            -0.0026      0.006     -0.409      0.683      -0.015       0.010\n",
      "tipo_emp_Individual                       0.1739      0.019      9.136      0.000       0.137       0.211\n",
      "=========================================================================================================\n"
     ]
    }
   ],
   "source": [
    "log_reg2 = sm.Logit(\n",
    "    y_train, \n",
    "    sm.add_constant( \n",
    "        X_train[keep_vals]\n",
    "    )\n",
    ").fit()\n",
    "\n",
    "print(log_reg2.summary())"
   ]
  },
  {
   "cell_type": "markdown",
   "id": "reflected-walnut",
   "metadata": {},
   "source": [
    "### II. Comparando performance de treino e teste"
   ]
  },
  {
   "cell_type": "code",
   "execution_count": 26,
   "id": "sorted-tobago",
   "metadata": {},
   "outputs": [
    {
     "name": "stdout",
     "output_type": "stream",
     "text": [
      "AUC on train: 0.7213039770967521\n",
      "AUC on test: 0.69721706662386\n",
      "__________________________________________________\n",
      "Precision on train: 0.5453122365917684\n",
      "Precision on test: 0.3704710144927536\n",
      "__________________________________________________\n",
      "Recall on train: 0.1280951761358172\n",
      "Recall on test: 0.13826910074374577\n",
      "__________________________________________________\n",
      "Accuracy on train: 0.7852898396040489\n",
      "Accuracy on test: 0.8271955680244327\n"
     ]
    }
   ],
   "source": [
    "# performing predictions on the test set\n",
    "y_prob_train_lr = log_reg2.predict(sm.add_constant( X_train[keep_vals] ) )\n",
    "y_prob_test_lr = log_reg2.predict(sm.add_constant( X_test[keep_vals] ) )\n",
    "\n",
    "y_pred_train_lr = np.where(y_prob_train_lr >= 0.5, 1, 0)\n",
    "y_pred_test_lr = np.where(y_prob_test_lr >= 0.5, 1, 0)\n",
    "  \n",
    "print('AUC on train: {}'.format(roc_auc_score(y_train, y_prob_train_lr)))\n",
    "print('AUC on test: {}'.format(roc_auc_score(y_test, y_prob_test_lr)))\n",
    "print('_'*50)\n",
    "print('Precision on train: {}'.format(precision_score(y_train, y_pred_train_lr)))\n",
    "print('Precision on test: {}'.format(precision_score(y_test, y_pred_test_lr)))\n",
    "print('_'*50)\n",
    "print('Recall on train: {}'.format(recall_score(y_train, y_pred_train_lr)))\n",
    "print('Recall on test: {}'.format(recall_score(y_test, y_pred_test_lr)))\n",
    "print('_'*50)\n",
    "print('Accuracy on train: {}'.format(accuracy_score(y_train, y_pred_train_lr)))\n",
    "print('Accuracy on test: {}'.format(accuracy_score(y_test, y_pred_test_lr)))"
   ]
  },
  {
   "cell_type": "code",
   "execution_count": 27,
   "id": "public-delicious",
   "metadata": {},
   "outputs": [],
   "source": [
    "# populando a tabela com os resultados da regressão logística\n",
    "df_metrics['model'].append('Logistic Regression SM')\n",
    "df_metrics['accuracy'].append(accuracy_score(y_train, y_pred_train_lr))\n",
    "df_metrics['precision'].append(precision_score(y_train, y_pred_train_lr))\n",
    "df_metrics['recall'].append(recall_score(y_train, y_pred_train_lr))\n",
    "df_metrics['f1'].append(f1_score(y_train, y_pred_train_lr))\n",
    "df_metrics['roc_auc'].append(roc_auc_score(y_train, y_prob_train_lr))"
   ]
  },
  {
   "cell_type": "markdown",
   "id": "monthly-moral",
   "metadata": {},
   "source": [
    "# 2 - Tratamento para árvores"
   ]
  },
  {
   "cell_type": "code",
   "execution_count": 28,
   "id": "stainless-nowhere",
   "metadata": {},
   "outputs": [],
   "source": [
    "df_train_num = df_train[num_vars]\n",
    "df_train_cat = df_train[cat_vars]\n",
    "\n",
    "df_test_num = df_test[num_vars]\n",
    "df_test_cat = df_test[cat_vars]"
   ]
  },
  {
   "cell_type": "code",
   "execution_count": 29,
   "id": "fuzzy-inspector",
   "metadata": {},
   "outputs": [],
   "source": [
    "# instanciando\n",
    "mmi = MeanMedianImputer(variables=num_vars, imputation_method='mean') #num\n",
    "ci = CategoricalImputer(variables = cat_vars, fill_value='missing') #cat\n",
    "oe = OrdinalEncoder(handle_unknown='use_encoded_value', unknown_value=-1) #cat\n",
    "\n",
    "# tratamento numericas\n",
    "X_train_num = mmi.fit_transform(df_train_num)\n",
    "X_test_num = mmi.transform(df_test_num)\n",
    "\n",
    "# tratamento categoricas\n",
    "X_train_cat = ci.fit_transform(df_train_cat)\n",
    "X_test_cat = ci.transform(df_test_cat)\n",
    "\n",
    "X_train_cat.reset_index(drop=True, inplace=True)\n",
    "X_test_cat.reset_index(drop=True, inplace=True)\n",
    "X_train_num.reset_index(drop=True, inplace=True)\n",
    "X_test_num.reset_index(drop=True, inplace=True)\n",
    "\n",
    "# obtendo dados pro catb\n",
    "X_train_catb = pd.concat( [ X_train_num, X_train_cat ], axis=1 )\n",
    "X_test_catb = pd.concat( [ X_test_num, X_test_cat ], axis=1 )\n",
    "\n",
    "\n",
    "X_train_cat = oe.fit_transform(X_train_cat)\n",
    "X_test_cat = oe.transform(X_test_cat)\n",
    "\n",
    "X_train = pd.concat( [X_train_num, pd.DataFrame(X_train_cat, columns=cat_vars)], axis=1 )\n",
    "X_test = pd.concat( [X_test_num, pd.DataFrame(X_test_cat, columns=cat_vars)], axis=1 )"
   ]
  },
  {
   "cell_type": "markdown",
   "id": "accredited-melissa",
   "metadata": {},
   "source": [
    "# 2.1 - Decision Tree Classifier"
   ]
  },
  {
   "cell_type": "markdown",
   "id": "powered-seventh",
   "metadata": {},
   "source": [
    "### I. Modelo"
   ]
  },
  {
   "cell_type": "code",
   "execution_count": 30,
   "id": "accessory-chain",
   "metadata": {},
   "outputs": [],
   "source": [
    "params_dt = {\n",
    "    'max_depth': 4, \n",
    "    'min_samples_leaf': 100,\n",
    "    'class_weight': 'balanced',\n",
    "    'random_state': 0\n",
    "}"
   ]
  },
  {
   "cell_type": "code",
   "execution_count": 31,
   "id": "buried-turtle",
   "metadata": {},
   "outputs": [],
   "source": [
    "dt_model = DecisionTreeClassifier(**params_dt)"
   ]
  },
  {
   "cell_type": "markdown",
   "id": "collectible-ground",
   "metadata": {},
   "source": [
    "### II. Validação cruzada"
   ]
  },
  {
   "cell_type": "code",
   "execution_count": 32,
   "id": "herbal-jacket",
   "metadata": {},
   "outputs": [],
   "source": [
    "skf = StratifiedKFold(n_splits=5, shuffle=False)\n",
    "\n",
    "cv_results_dt = cross_validate(estimator = dt_model,\n",
    "                               X = X_train, \n",
    "                               y = y_train, \n",
    "                               scoring = ['accuracy', 'precision', 'recall', 'f1', 'roc_auc'], \n",
    "                               cv = skf, \n",
    "                               n_jobs = -1\n",
    "                              )\n",
    "\n",
    "dt_model_results = pd.DataFrame(cv_results_dt)"
   ]
  },
  {
   "cell_type": "markdown",
   "id": "annual-midwest",
   "metadata": {},
   "source": [
    "### III. Resultados"
   ]
  },
  {
   "cell_type": "code",
   "execution_count": 33,
   "id": "incorporate-pledge",
   "metadata": {},
   "outputs": [
    {
     "data": {
      "text/html": [
       "<div>\n",
       "<style scoped>\n",
       "    .dataframe tbody tr th:only-of-type {\n",
       "        vertical-align: middle;\n",
       "    }\n",
       "\n",
       "    .dataframe tbody tr th {\n",
       "        vertical-align: top;\n",
       "    }\n",
       "\n",
       "    .dataframe thead th {\n",
       "        text-align: right;\n",
       "    }\n",
       "</style>\n",
       "<table border=\"1\" class=\"dataframe\">\n",
       "  <thead>\n",
       "    <tr style=\"text-align: right;\">\n",
       "      <th></th>\n",
       "      <th>fit_time</th>\n",
       "      <th>score_time</th>\n",
       "      <th>test_accuracy</th>\n",
       "      <th>test_precision</th>\n",
       "      <th>test_recall</th>\n",
       "      <th>test_f1</th>\n",
       "      <th>test_roc_auc</th>\n",
       "    </tr>\n",
       "  </thead>\n",
       "  <tbody>\n",
       "    <tr>\n",
       "      <th>0</th>\n",
       "      <td>16.74</td>\n",
       "      <td>0.60</td>\n",
       "      <td>0.70</td>\n",
       "      <td>0.38</td>\n",
       "      <td>0.58</td>\n",
       "      <td>0.46</td>\n",
       "      <td>0.72</td>\n",
       "    </tr>\n",
       "    <tr>\n",
       "      <th>1</th>\n",
       "      <td>16.61</td>\n",
       "      <td>0.63</td>\n",
       "      <td>0.65</td>\n",
       "      <td>0.35</td>\n",
       "      <td>0.66</td>\n",
       "      <td>0.45</td>\n",
       "      <td>0.71</td>\n",
       "    </tr>\n",
       "    <tr>\n",
       "      <th>2</th>\n",
       "      <td>15.95</td>\n",
       "      <td>0.60</td>\n",
       "      <td>0.61</td>\n",
       "      <td>0.32</td>\n",
       "      <td>0.67</td>\n",
       "      <td>0.43</td>\n",
       "      <td>0.68</td>\n",
       "    </tr>\n",
       "    <tr>\n",
       "      <th>3</th>\n",
       "      <td>16.42</td>\n",
       "      <td>0.63</td>\n",
       "      <td>0.66</td>\n",
       "      <td>0.35</td>\n",
       "      <td>0.66</td>\n",
       "      <td>0.46</td>\n",
       "      <td>0.71</td>\n",
       "    </tr>\n",
       "    <tr>\n",
       "      <th>4</th>\n",
       "      <td>6.32</td>\n",
       "      <td>0.27</td>\n",
       "      <td>0.59</td>\n",
       "      <td>0.31</td>\n",
       "      <td>0.68</td>\n",
       "      <td>0.42</td>\n",
       "      <td>0.67</td>\n",
       "    </tr>\n",
       "  </tbody>\n",
       "</table>\n",
       "</div>"
      ],
      "text/plain": [
       "   fit_time  score_time  test_accuracy  test_precision  test_recall  test_f1  test_roc_auc\n",
       "0     16.74        0.60           0.70            0.38         0.58     0.46          0.72\n",
       "1     16.61        0.63           0.65            0.35         0.66     0.45          0.71\n",
       "2     15.95        0.60           0.61            0.32         0.67     0.43          0.68\n",
       "3     16.42        0.63           0.66            0.35         0.66     0.46          0.71\n",
       "4      6.32        0.27           0.59            0.31         0.68     0.42          0.67"
      ]
     },
     "execution_count": 33,
     "metadata": {},
     "output_type": "execute_result"
    }
   ],
   "source": [
    "dt_model_results"
   ]
  },
  {
   "cell_type": "code",
   "execution_count": 34,
   "id": "olive-affair",
   "metadata": {},
   "outputs": [],
   "source": [
    "accuracy = dt_model_results.mean().loc['test_accuracy']\n",
    "precision = dt_model_results.mean().loc['test_precision']\n",
    "recall = dt_model_results.mean().loc['test_recall']\n",
    "f1 = dt_model_results.mean().loc['test_f1']\n",
    "roc_auc = dt_model_results.mean().loc['test_roc_auc']"
   ]
  },
  {
   "cell_type": "code",
   "execution_count": 35,
   "id": "unnecessary-particular",
   "metadata": {},
   "outputs": [],
   "source": [
    "# populando a tabela com os resultados da regressão logística\n",
    "df_metrics['model'].append('Decision Tree')\n",
    "df_metrics['accuracy'].append(accuracy)\n",
    "df_metrics['precision'].append(precision)\n",
    "df_metrics['recall'].append(recall)\n",
    "df_metrics['f1'].append(f1)\n",
    "df_metrics['roc_auc'].append(roc_auc)"
   ]
  },
  {
   "cell_type": "markdown",
   "id": "joined-rates",
   "metadata": {},
   "source": [
    "### IV. Comparando performance no conjunt de teste"
   ]
  },
  {
   "cell_type": "code",
   "execution_count": 36,
   "id": "empty-thompson",
   "metadata": {},
   "outputs": [
    {
     "data": {
      "text/plain": [
       "DecisionTreeClassifier(class_weight='balanced', max_depth=4,\n",
       "                       min_samples_leaf=100, random_state=0)"
      ]
     },
     "execution_count": 36,
     "metadata": {},
     "output_type": "execute_result"
    }
   ],
   "source": [
    "dt_model.fit(X_train, y_train)"
   ]
  },
  {
   "cell_type": "code",
   "execution_count": 37,
   "id": "provincial-samoa",
   "metadata": {},
   "outputs": [
    {
     "name": "stdout",
     "output_type": "stream",
     "text": [
      "AUC on train: 0.7029856579171593\n",
      "AUC on test: 0.6776382483700414\n",
      "__________________________________________________\n",
      "Precision on train: 0.3360978532144997\n",
      "Precision on test: 0.23135870177679277\n",
      "__________________________________________________\n",
      "Recall on train: 0.6696611924171367\n",
      "Recall on test: 0.6940500338066261\n",
      "__________________________________________________\n",
      "Accuracy on train: 0.6373343791420728\n",
      "Accuracy on test: 0.5884619482225931\n"
     ]
    }
   ],
   "source": [
    "y_prob_test_dt = dt_model.predict_proba(X_test)[:,1]\n",
    "y_prob_train_dt = dt_model.predict_proba(X_train)[:,1]\n",
    "\n",
    "# performing predictions on the test set\n",
    "y_pred_train_dt = dt_model.predict(X_train)\n",
    "y_pred_test_dt = dt_model.predict(X_test)\n",
    "\n",
    "  \n",
    "print('AUC on train: {}'.format(roc_auc_score(y_train, y_prob_train_dt)))\n",
    "print('AUC on test: {}'.format(roc_auc_score(y_test, y_prob_test_dt)))\n",
    "print('_'*50)\n",
    "print('Precision on train: {}'.format(precision_score(y_train, y_pred_train_dt)))\n",
    "print('Precision on test: {}'.format(precision_score(y_test, y_pred_test_dt)))\n",
    "print('_'*50)\n",
    "print('Recall on train: {}'.format(recall_score(y_train, y_pred_train_dt)))\n",
    "print('Recall on test: {}'.format(recall_score(y_test, y_pred_test_dt)))\n",
    "print('_'*50)\n",
    "print('Accuracy on train: {}'.format(accuracy_score(y_train, y_pred_train_dt)))\n",
    "print('Accuracy on test: {}'.format(accuracy_score(y_test, y_pred_test_dt)))"
   ]
  },
  {
   "cell_type": "markdown",
   "id": "headed-steam",
   "metadata": {},
   "source": [
    "### V. Visualizando a DT"
   ]
  },
  {
   "cell_type": "code",
   "execution_count": 38,
   "id": "center-recruitment",
   "metadata": {},
   "outputs": [
    {
     "data": {
      "image/png": "[encoded data removed]",
      "text/plain": [
       "<Figure size 2160x1080 with 1 Axes>"
      ]
     },
     "metadata": {
      "needs_background": "light"
     },
     "output_type": "display_data"
    }
   ],
   "source": [
    "fig, axes = plt.subplots(nrows = 1,ncols = 1,figsize = (30,15))\n",
    "\n",
    "plot_tree(\n",
    "    dt_model,\n",
    "    feature_names = X_train.columns.tolist(), \n",
    "    class_names = ['Pago', 'Inadimplente'],\n",
    "    filled = True,\n",
    "    fontsize=10\n",
    ");\n",
    "\n",
    "fig.savefig('imagename.png')"
   ]
  },
  {
   "cell_type": "markdown",
   "id": "responsible-collapse",
   "metadata": {},
   "source": [
    "# 2.2 - Random Forest"
   ]
  },
  {
   "cell_type": "markdown",
   "id": "fossil-times",
   "metadata": {},
   "source": [
    "### I. Modelo"
   ]
  },
  {
   "cell_type": "code",
   "execution_count": 39,
   "id": "august-mason",
   "metadata": {},
   "outputs": [],
   "source": [
    "params_rf = {\n",
    "    'max_depth': 4, \n",
    "    'min_samples_leaf': 100,\n",
    "    'n_estimators': 100,\n",
    "    'class_weight': 'balanced',\n",
    "    'random_state': 0\n",
    "}"
   ]
  },
  {
   "cell_type": "code",
   "execution_count": 40,
   "id": "intensive-japanese",
   "metadata": {},
   "outputs": [],
   "source": [
    "rf_model =  RandomForestClassifier( **params_rf )"
   ]
  },
  {
   "cell_type": "markdown",
   "id": "subjective-calgary",
   "metadata": {},
   "source": [
    "### II. Validação cruzada "
   ]
  },
  {
   "cell_type": "code",
   "execution_count": 41,
   "id": "suspected-grass",
   "metadata": {},
   "outputs": [],
   "source": [
    "skf = StratifiedKFold(\n",
    "        n_splits=5, \n",
    "        shuffle=False\n",
    ")\n",
    "\n",
    "cv_results_rf = cross_validate(\n",
    "                    estimator = rf_model,\n",
    "                    X = X_train, \n",
    "                    y = y_train, \n",
    "                    scoring = ['accuracy', 'precision', 'recall', 'f1', 'roc_auc'], \n",
    "                    cv = skf, \n",
    "                    n_jobs = -1\n",
    ")\n",
    "\n",
    "rf_model_results = pd.DataFrame(cv_results_rf)"
   ]
  },
  {
   "cell_type": "markdown",
   "id": "floral-quebec",
   "metadata": {},
   "source": [
    "### III. Resultados"
   ]
  },
  {
   "cell_type": "code",
   "execution_count": 42,
   "id": "requested-minority",
   "metadata": {},
   "outputs": [
    {
     "data": {
      "text/html": [
       "<div>\n",
       "<style scoped>\n",
       "    .dataframe tbody tr th:only-of-type {\n",
       "        vertical-align: middle;\n",
       "    }\n",
       "\n",
       "    .dataframe tbody tr th {\n",
       "        vertical-align: top;\n",
       "    }\n",
       "\n",
       "    .dataframe thead th {\n",
       "        text-align: right;\n",
       "    }\n",
       "</style>\n",
       "<table border=\"1\" class=\"dataframe\">\n",
       "  <thead>\n",
       "    <tr style=\"text-align: right;\">\n",
       "      <th></th>\n",
       "      <th>fit_time</th>\n",
       "      <th>score_time</th>\n",
       "      <th>test_accuracy</th>\n",
       "      <th>test_precision</th>\n",
       "      <th>test_recall</th>\n",
       "      <th>test_f1</th>\n",
       "      <th>test_roc_auc</th>\n",
       "    </tr>\n",
       "  </thead>\n",
       "  <tbody>\n",
       "    <tr>\n",
       "      <th>0</th>\n",
       "      <td>189.78</td>\n",
       "      <td>3.34</td>\n",
       "      <td>0.66</td>\n",
       "      <td>0.35</td>\n",
       "      <td>0.69</td>\n",
       "      <td>0.47</td>\n",
       "      <td>0.73</td>\n",
       "    </tr>\n",
       "    <tr>\n",
       "      <th>1</th>\n",
       "      <td>190.21</td>\n",
       "      <td>3.29</td>\n",
       "      <td>0.61</td>\n",
       "      <td>0.33</td>\n",
       "      <td>0.74</td>\n",
       "      <td>0.45</td>\n",
       "      <td>0.72</td>\n",
       "    </tr>\n",
       "    <tr>\n",
       "      <th>2</th>\n",
       "      <td>181.56</td>\n",
       "      <td>5.15</td>\n",
       "      <td>0.58</td>\n",
       "      <td>0.31</td>\n",
       "      <td>0.73</td>\n",
       "      <td>0.43</td>\n",
       "      <td>0.69</td>\n",
       "    </tr>\n",
       "    <tr>\n",
       "      <th>3</th>\n",
       "      <td>177.21</td>\n",
       "      <td>6.06</td>\n",
       "      <td>0.62</td>\n",
       "      <td>0.33</td>\n",
       "      <td>0.73</td>\n",
       "      <td>0.46</td>\n",
       "      <td>0.72</td>\n",
       "    </tr>\n",
       "    <tr>\n",
       "      <th>4</th>\n",
       "      <td>85.39</td>\n",
       "      <td>2.44</td>\n",
       "      <td>0.55</td>\n",
       "      <td>0.29</td>\n",
       "      <td>0.75</td>\n",
       "      <td>0.42</td>\n",
       "      <td>0.68</td>\n",
       "    </tr>\n",
       "  </tbody>\n",
       "</table>\n",
       "</div>"
      ],
      "text/plain": [
       "   fit_time  score_time  test_accuracy  test_precision  test_recall  test_f1  test_roc_auc\n",
       "0    189.78        3.34           0.66            0.35         0.69     0.47          0.73\n",
       "1    190.21        3.29           0.61            0.33         0.74     0.45          0.72\n",
       "2    181.56        5.15           0.58            0.31         0.73     0.43          0.69\n",
       "3    177.21        6.06           0.62            0.33         0.73     0.46          0.72\n",
       "4     85.39        2.44           0.55            0.29         0.75     0.42          0.68"
      ]
     },
     "execution_count": 42,
     "metadata": {},
     "output_type": "execute_result"
    }
   ],
   "source": [
    "rf_model_results"
   ]
  },
  {
   "cell_type": "code",
   "execution_count": 43,
   "id": "greek-belarus",
   "metadata": {},
   "outputs": [],
   "source": [
    "accuracy = rf_model_results.mean().loc['test_accuracy']\n",
    "precision = rf_model_results.mean().loc['test_precision']\n",
    "recall = rf_model_results.mean().loc['test_recall']\n",
    "f1 = rf_model_results.mean().loc['test_f1']\n",
    "roc_auc = rf_model_results.mean().loc['test_roc_auc']"
   ]
  },
  {
   "cell_type": "code",
   "execution_count": 44,
   "id": "rocky-matter",
   "metadata": {},
   "outputs": [],
   "source": [
    "# populando a tabela com os resultados da random forest\n",
    "df_metrics['model'].append('Random Forest')\n",
    "df_metrics['accuracy'].append(accuracy)\n",
    "df_metrics['precision'].append(precision)\n",
    "df_metrics['recall'].append(recall)\n",
    "df_metrics['f1'].append(f1)\n",
    "df_metrics['roc_auc'].append(roc_auc)"
   ]
  },
  {
   "cell_type": "markdown",
   "id": "noble-spare",
   "metadata": {},
   "source": [
    "### IV. Comparando performance no conjunt de teste"
   ]
  },
  {
   "cell_type": "code",
   "execution_count": 45,
   "id": "above-federal",
   "metadata": {},
   "outputs": [
    {
     "data": {
      "text/plain": [
       "RandomForestClassifier(class_weight='balanced', max_depth=4,\n",
       "                       min_samples_leaf=100, random_state=0)"
      ]
     },
     "execution_count": 45,
     "metadata": {},
     "output_type": "execute_result"
    }
   ],
   "source": [
    "rf_model.fit(X_train, y_train)"
   ]
  },
  {
   "cell_type": "code",
   "execution_count": 46,
   "id": "coordinated-alarm",
   "metadata": {},
   "outputs": [
    {
     "name": "stdout",
     "output_type": "stream",
     "text": [
      "AUC on train: 0.7134519628656014\n",
      "AUC on test: 0.6919777022579763\n",
      "__________________________________________________\n",
      "Precision on train: 0.32125908497253325\n",
      "Precision on test: 0.22966077332183413\n",
      "__________________________________________________\n",
      "Recall on train: 0.7291689059609543\n",
      "Recall on test: 0.7201938246562993\n",
      "__________________________________________________\n",
      "Accuracy on train: 0.602617914107993\n",
      "Accuracy on test: 0.575269008132391\n"
     ]
    }
   ],
   "source": [
    "y_prob_test_rf = rf_model.predict_proba(X_test)[:,1]\n",
    "y_prob_train_rf = rf_model.predict_proba(X_train)[:,1]\n",
    "\n",
    "# performing predictions on the test set\n",
    "y_pred_train_rf = rf_model.predict(X_train)\n",
    "y_pred_test_rf = rf_model.predict(X_test)\n",
    "\n",
    "  \n",
    "print('AUC on train: {}'.format(roc_auc_score(y_train, y_prob_train_rf)))\n",
    "print('AUC on test: {}'.format(roc_auc_score(y_test, y_prob_test_rf)))\n",
    "print('_'*50)\n",
    "print('Precision on train: {}'.format(precision_score(y_train, y_pred_train_rf)))\n",
    "print('Precision on test: {}'.format(precision_score(y_test, y_pred_test_rf)))\n",
    "print('_'*50)\n",
    "print('Recall on train: {}'.format(recall_score(y_train, y_pred_train_rf)))\n",
    "print('Recall on test: {}'.format(recall_score(y_test, y_pred_test_rf)))\n",
    "print('_'*50)\n",
    "print('Accuracy on train: {}'.format(accuracy_score(y_train, y_pred_train_rf)))\n",
    "print('Accuracy on test: {}'.format(accuracy_score(y_test, y_pred_test_rf)))"
   ]
  },
  {
   "cell_type": "markdown",
   "id": "traditional-prize",
   "metadata": {},
   "source": [
    "# 2.3 - CatBoost"
   ]
  },
  {
   "cell_type": "code",
   "execution_count": 47,
   "id": "foreign-garden",
   "metadata": {},
   "outputs": [],
   "source": [
    "#X_train_catb = df_train[features]\n",
    "y_train_catb = y_train\n",
    "\n",
    "#X_test_catb = df_test[features]\n",
    "y_test_catb = y_test"
   ]
  },
  {
   "cell_type": "markdown",
   "id": "local-mitchell",
   "metadata": {},
   "source": [
    "### I. Modelo"
   ]
  },
  {
   "cell_type": "code",
   "execution_count": 48,
   "id": "complicated-dictionary",
   "metadata": {},
   "outputs": [],
   "source": [
    "params_catb = {\n",
    "    'objective': 'Logloss',\n",
    "    #'colsample_bylevel': 0.01,\n",
    "    'depth': 4,\n",
    "    #'boosting_type': 'Plain',\n",
    "    #'bootstrap_type': 'Bernoulli',\n",
    "    'iterations': 200,\n",
    "    #'learning_rate': 0.05,\n",
    "    #'l2_leaf_reg': 20,\n",
    "    #'border_count': 23,\n",
    "    #'subsample': 0.5,\n",
    "    'cat_features': cat_vars,\n",
    "    #'use_best_model': True,\n",
    "    'random_state': 0\n",
    "\n",
    "}"
   ]
  },
  {
   "cell_type": "code",
   "execution_count": 49,
   "id": "instrumental-health",
   "metadata": {},
   "outputs": [],
   "source": [
    "catb_model =  CatBoostClassifier( **params_catb )"
   ]
  },
  {
   "cell_type": "markdown",
   "id": "patent-walker",
   "metadata": {},
   "source": [
    "### II. Validação cruzada "
   ]
  },
  {
   "cell_type": "code",
   "execution_count": 50,
   "id": "authorized-indication",
   "metadata": {},
   "outputs": [],
   "source": [
    "skf = StratifiedKFold(\n",
    "        n_splits=5, \n",
    "        shuffle=False\n",
    ")\n",
    "\n",
    "cv_results_catb = cross_validate(\n",
    "                    estimator = catb_model,\n",
    "                    X = X_train_catb, \n",
    "                    y = y_train_catb, \n",
    "                    scoring = ['accuracy', 'precision', 'recall', 'f1', 'roc_auc'], \n",
    "                    cv = skf, \n",
    "                    n_jobs = -1\n",
    ")\n",
    "\n",
    "catb_model_results = pd.DataFrame(cv_results_catb)"
   ]
  },
  {
   "cell_type": "code",
   "execution_count": 51,
   "id": "continental-intro",
   "metadata": {},
   "outputs": [
    {
     "data": {
      "text/plain": [
       "{'fit_time': array([522.711169  , 531.30872798, 530.48517585, 528.08155894,\n",
       "        130.21055508]),\n",
       " 'score_time': array([10.6378231 ,  4.72727418,  4.57063818,  4.54639626,  1.56436777]),\n",
       " 'test_accuracy': array([0.79103579, 0.78752847, 0.77822043, 0.78920391, 0.78029302]),\n",
       " 'test_precision': array([0.6419273 , 0.57004405, 0.47933796, 0.56802755, 0.49815498]),\n",
       " 'test_recall': array([0.10739945, 0.12810794, 0.12697649, 0.16332419, 0.1985631 ]),\n",
       " 'test_f1': array([0.18401221, 0.20920135, 0.20076927, 0.25370183, 0.28394612]),\n",
       " 'test_roc_auc': array([0.74642498, 0.70692988, 0.716671  , 0.73591383, 0.71275269])}"
      ]
     },
     "execution_count": 51,
     "metadata": {},
     "output_type": "execute_result"
    }
   ],
   "source": [
    "cv_results_catb"
   ]
  },
  {
   "cell_type": "markdown",
   "id": "seventh-cornell",
   "metadata": {},
   "source": [
    "### III. Resultados"
   ]
  },
  {
   "cell_type": "code",
   "execution_count": 52,
   "id": "satisfactory-whole",
   "metadata": {},
   "outputs": [
    {
     "data": {
      "text/html": [
       "<div>\n",
       "<style scoped>\n",
       "    .dataframe tbody tr th:only-of-type {\n",
       "        vertical-align: middle;\n",
       "    }\n",
       "\n",
       "    .dataframe tbody tr th {\n",
       "        vertical-align: top;\n",
       "    }\n",
       "\n",
       "    .dataframe thead th {\n",
       "        text-align: right;\n",
       "    }\n",
       "</style>\n",
       "<table border=\"1\" class=\"dataframe\">\n",
       "  <thead>\n",
       "    <tr style=\"text-align: right;\">\n",
       "      <th></th>\n",
       "      <th>fit_time</th>\n",
       "      <th>score_time</th>\n",
       "      <th>test_accuracy</th>\n",
       "      <th>test_precision</th>\n",
       "      <th>test_recall</th>\n",
       "      <th>test_f1</th>\n",
       "      <th>test_roc_auc</th>\n",
       "    </tr>\n",
       "  </thead>\n",
       "  <tbody>\n",
       "    <tr>\n",
       "      <th>0</th>\n",
       "      <td>522.71</td>\n",
       "      <td>10.64</td>\n",
       "      <td>0.79</td>\n",
       "      <td>0.64</td>\n",
       "      <td>0.11</td>\n",
       "      <td>0.18</td>\n",
       "      <td>0.75</td>\n",
       "    </tr>\n",
       "    <tr>\n",
       "      <th>1</th>\n",
       "      <td>531.31</td>\n",
       "      <td>4.73</td>\n",
       "      <td>0.79</td>\n",
       "      <td>0.57</td>\n",
       "      <td>0.13</td>\n",
       "      <td>0.21</td>\n",
       "      <td>0.71</td>\n",
       "    </tr>\n",
       "    <tr>\n",
       "      <th>2</th>\n",
       "      <td>530.49</td>\n",
       "      <td>4.57</td>\n",
       "      <td>0.78</td>\n",
       "      <td>0.48</td>\n",
       "      <td>0.13</td>\n",
       "      <td>0.20</td>\n",
       "      <td>0.72</td>\n",
       "    </tr>\n",
       "    <tr>\n",
       "      <th>3</th>\n",
       "      <td>528.08</td>\n",
       "      <td>4.55</td>\n",
       "      <td>0.79</td>\n",
       "      <td>0.57</td>\n",
       "      <td>0.16</td>\n",
       "      <td>0.25</td>\n",
       "      <td>0.74</td>\n",
       "    </tr>\n",
       "    <tr>\n",
       "      <th>4</th>\n",
       "      <td>130.21</td>\n",
       "      <td>1.56</td>\n",
       "      <td>0.78</td>\n",
       "      <td>0.50</td>\n",
       "      <td>0.20</td>\n",
       "      <td>0.28</td>\n",
       "      <td>0.71</td>\n",
       "    </tr>\n",
       "  </tbody>\n",
       "</table>\n",
       "</div>"
      ],
      "text/plain": [
       "   fit_time  score_time  test_accuracy  test_precision  test_recall  test_f1  test_roc_auc\n",
       "0    522.71       10.64           0.79            0.64         0.11     0.18          0.75\n",
       "1    531.31        4.73           0.79            0.57         0.13     0.21          0.71\n",
       "2    530.49        4.57           0.78            0.48         0.13     0.20          0.72\n",
       "3    528.08        4.55           0.79            0.57         0.16     0.25          0.74\n",
       "4    130.21        1.56           0.78            0.50         0.20     0.28          0.71"
      ]
     },
     "execution_count": 52,
     "metadata": {},
     "output_type": "execute_result"
    }
   ],
   "source": [
    "catb_model_results"
   ]
  },
  {
   "cell_type": "code",
   "execution_count": 53,
   "id": "swiss-dragon",
   "metadata": {},
   "outputs": [],
   "source": [
    "accuracy = catb_model_results.mean().loc['test_accuracy']\n",
    "precision = catb_model_results.mean().loc['test_precision']\n",
    "recall = catb_model_results.mean().loc['test_recall']\n",
    "f1 = catb_model_results.mean().loc['test_f1']\n",
    "roc_auc = catb_model_results.mean().loc['test_roc_auc']"
   ]
  },
  {
   "cell_type": "code",
   "execution_count": 54,
   "id": "surprising-insured",
   "metadata": {},
   "outputs": [],
   "source": [
    "# populando a tabela com os resultados da catboost\n",
    "df_metrics['model'].append('CatBoost')\n",
    "df_metrics['accuracy'].append(accuracy)\n",
    "df_metrics['precision'].append(precision)\n",
    "df_metrics['recall'].append(recall)\n",
    "df_metrics['f1'].append(f1)\n",
    "df_metrics['roc_auc'].append(roc_auc)"
   ]
  },
  {
   "cell_type": "markdown",
   "id": "double-devil",
   "metadata": {},
   "source": [
    "### IV. Comparando performance no conjunt de teste"
   ]
  },
  {
   "cell_type": "code",
   "execution_count": 55,
   "id": "headed-complaint",
   "metadata": {
    "scrolled": true
   },
   "outputs": [
    {
     "name": "stdout",
     "output_type": "stream",
     "text": [
      "Learning rate set to 0.5\n",
      "0:\tlearn: 0.5269668\ttotal: 899ms\tremaining: 2m 58s\n",
      "1:\tlearn: 0.4916848\ttotal: 1.72s\tremaining: 2m 50s\n",
      "2:\tlearn: 0.4822570\ttotal: 2.48s\tremaining: 2m 43s\n",
      "3:\tlearn: 0.4767536\ttotal: 3.17s\tremaining: 2m 35s\n",
      "4:\tlearn: 0.4744194\ttotal: 3.92s\tremaining: 2m 33s\n",
      "5:\tlearn: 0.4731404\ttotal: 4.44s\tremaining: 2m 23s\n",
      "6:\tlearn: 0.4721272\ttotal: 5.13s\tremaining: 2m 21s\n",
      "7:\tlearn: 0.4713958\ttotal: 5.83s\tremaining: 2m 19s\n",
      "8:\tlearn: 0.4706723\ttotal: 6.64s\tremaining: 2m 20s\n",
      "9:\tlearn: 0.4700851\ttotal: 7.27s\tremaining: 2m 18s\n",
      "10:\tlearn: 0.4698444\ttotal: 8s\tremaining: 2m 17s\n",
      "11:\tlearn: 0.4695699\ttotal: 8.68s\tremaining: 2m 16s\n",
      "12:\tlearn: 0.4693687\ttotal: 9.42s\tremaining: 2m 15s\n",
      "13:\tlearn: 0.4692139\ttotal: 10.2s\tremaining: 2m 15s\n",
      "14:\tlearn: 0.4689335\ttotal: 10.9s\tremaining: 2m 14s\n",
      "15:\tlearn: 0.4685819\ttotal: 11.6s\tremaining: 2m 13s\n",
      "16:\tlearn: 0.4684386\ttotal: 12.4s\tremaining: 2m 13s\n",
      "17:\tlearn: 0.4682069\ttotal: 13.2s\tremaining: 2m 13s\n",
      "18:\tlearn: 0.4680893\ttotal: 13.9s\tremaining: 2m 12s\n",
      "19:\tlearn: 0.4679607\ttotal: 14.6s\tremaining: 2m 11s\n",
      "20:\tlearn: 0.4678256\ttotal: 15.3s\tremaining: 2m 10s\n",
      "21:\tlearn: 0.4676590\ttotal: 16s\tremaining: 2m 9s\n",
      "22:\tlearn: 0.4675692\ttotal: 16.6s\tremaining: 2m 8s\n",
      "23:\tlearn: 0.4674642\ttotal: 17.3s\tremaining: 2m 6s\n",
      "24:\tlearn: 0.4673501\ttotal: 18s\tremaining: 2m 5s\n",
      "25:\tlearn: 0.4670937\ttotal: 18.7s\tremaining: 2m 5s\n",
      "26:\tlearn: 0.4669422\ttotal: 19.4s\tremaining: 2m 4s\n",
      "27:\tlearn: 0.4667013\ttotal: 20.1s\tremaining: 2m 3s\n",
      "28:\tlearn: 0.4665948\ttotal: 20.9s\tremaining: 2m 3s\n",
      "29:\tlearn: 0.4664470\ttotal: 21.7s\tremaining: 2m 3s\n",
      "30:\tlearn: 0.4662912\ttotal: 22.5s\tremaining: 2m 2s\n",
      "31:\tlearn: 0.4661749\ttotal: 23.1s\tremaining: 2m 1s\n",
      "32:\tlearn: 0.4660133\ttotal: 23.8s\tremaining: 2m\n",
      "33:\tlearn: 0.4659120\ttotal: 24.5s\tremaining: 1m 59s\n",
      "34:\tlearn: 0.4658505\ttotal: 25.2s\tremaining: 1m 58s\n",
      "35:\tlearn: 0.4657482\ttotal: 25.9s\tremaining: 1m 58s\n",
      "36:\tlearn: 0.4656687\ttotal: 26.6s\tremaining: 1m 57s\n",
      "37:\tlearn: 0.4655522\ttotal: 27.3s\tremaining: 1m 56s\n",
      "38:\tlearn: 0.4654696\ttotal: 28.1s\tremaining: 1m 56s\n",
      "39:\tlearn: 0.4653720\ttotal: 28.8s\tremaining: 1m 55s\n",
      "40:\tlearn: 0.4652548\ttotal: 29.6s\tremaining: 1m 54s\n",
      "41:\tlearn: 0.4651900\ttotal: 30.4s\tremaining: 1m 54s\n",
      "42:\tlearn: 0.4651000\ttotal: 31.1s\tremaining: 1m 53s\n",
      "43:\tlearn: 0.4650387\ttotal: 31.7s\tremaining: 1m 52s\n",
      "44:\tlearn: 0.4649604\ttotal: 32.4s\tremaining: 1m 51s\n",
      "45:\tlearn: 0.4648700\ttotal: 33.1s\tremaining: 1m 50s\n",
      "46:\tlearn: 0.4647996\ttotal: 33.8s\tremaining: 1m 50s\n",
      "47:\tlearn: 0.4647013\ttotal: 34.6s\tremaining: 1m 49s\n",
      "48:\tlearn: 0.4646142\ttotal: 35.3s\tremaining: 1m 48s\n",
      "49:\tlearn: 0.4645591\ttotal: 36.1s\tremaining: 1m 48s\n",
      "50:\tlearn: 0.4644814\ttotal: 36.8s\tremaining: 1m 47s\n",
      "51:\tlearn: 0.4644185\ttotal: 37.5s\tremaining: 1m 46s\n",
      "52:\tlearn: 0.4643775\ttotal: 38.2s\tremaining: 1m 45s\n",
      "53:\tlearn: 0.4643254\ttotal: 38.9s\tremaining: 1m 45s\n",
      "54:\tlearn: 0.4642654\ttotal: 39.6s\tremaining: 1m 44s\n",
      "55:\tlearn: 0.4641774\ttotal: 40.4s\tremaining: 1m 43s\n",
      "56:\tlearn: 0.4641227\ttotal: 41.1s\tremaining: 1m 43s\n",
      "57:\tlearn: 0.4640528\ttotal: 41.8s\tremaining: 1m 42s\n",
      "58:\tlearn: 0.4639757\ttotal: 42.5s\tremaining: 1m 41s\n",
      "59:\tlearn: 0.4639023\ttotal: 43.3s\tremaining: 1m 40s\n",
      "60:\tlearn: 0.4638378\ttotal: 43.9s\tremaining: 1m 39s\n",
      "61:\tlearn: 0.4637831\ttotal: 44.6s\tremaining: 1m 39s\n",
      "62:\tlearn: 0.4637271\ttotal: 45.3s\tremaining: 1m 38s\n",
      "63:\tlearn: 0.4636675\ttotal: 46s\tremaining: 1m 37s\n",
      "64:\tlearn: 0.4636144\ttotal: 46.7s\tremaining: 1m 37s\n",
      "65:\tlearn: 0.4635494\ttotal: 47.4s\tremaining: 1m 36s\n",
      "66:\tlearn: 0.4635110\ttotal: 48.2s\tremaining: 1m 35s\n",
      "67:\tlearn: 0.4634509\ttotal: 48.9s\tremaining: 1m 34s\n",
      "68:\tlearn: 0.4633888\ttotal: 49.5s\tremaining: 1m 34s\n",
      "69:\tlearn: 0.4633438\ttotal: 50.2s\tremaining: 1m 33s\n",
      "70:\tlearn: 0.4633058\ttotal: 50.9s\tremaining: 1m 32s\n",
      "71:\tlearn: 0.4632617\ttotal: 51.6s\tremaining: 1m 31s\n",
      "72:\tlearn: 0.4632264\ttotal: 52.4s\tremaining: 1m 31s\n",
      "73:\tlearn: 0.4631748\ttotal: 53s\tremaining: 1m 30s\n",
      "74:\tlearn: 0.4631190\ttotal: 53.7s\tremaining: 1m 29s\n",
      "75:\tlearn: 0.4630815\ttotal: 54.4s\tremaining: 1m 28s\n",
      "76:\tlearn: 0.4630129\ttotal: 55.1s\tremaining: 1m 27s\n",
      "77:\tlearn: 0.4629746\ttotal: 55.7s\tremaining: 1m 27s\n",
      "78:\tlearn: 0.4629309\ttotal: 56.4s\tremaining: 1m 26s\n",
      "79:\tlearn: 0.4628874\ttotal: 57.2s\tremaining: 1m 25s\n",
      "80:\tlearn: 0.4628462\ttotal: 57.9s\tremaining: 1m 25s\n",
      "81:\tlearn: 0.4628096\ttotal: 58.6s\tremaining: 1m 24s\n",
      "82:\tlearn: 0.4627629\ttotal: 59.2s\tremaining: 1m 23s\n",
      "83:\tlearn: 0.4627198\ttotal: 60s\tremaining: 1m 22s\n",
      "84:\tlearn: 0.4626924\ttotal: 1m\tremaining: 1m 22s\n",
      "85:\tlearn: 0.4626385\ttotal: 1m 1s\tremaining: 1m 21s\n",
      "86:\tlearn: 0.4626047\ttotal: 1m 1s\tremaining: 1m 20s\n",
      "87:\tlearn: 0.4625749\ttotal: 1m 2s\tremaining: 1m 19s\n",
      "88:\tlearn: 0.4625314\ttotal: 1m 3s\tremaining: 1m 19s\n",
      "89:\tlearn: 0.4625155\ttotal: 1m 4s\tremaining: 1m 18s\n",
      "90:\tlearn: 0.4624650\ttotal: 1m 4s\tremaining: 1m 17s\n",
      "91:\tlearn: 0.4624425\ttotal: 1m 5s\tremaining: 1m 16s\n",
      "92:\tlearn: 0.4624194\ttotal: 1m 6s\tremaining: 1m 16s\n",
      "93:\tlearn: 0.4623758\ttotal: 1m 7s\tremaining: 1m 15s\n",
      "94:\tlearn: 0.4623441\ttotal: 1m 7s\tremaining: 1m 14s\n",
      "95:\tlearn: 0.4623164\ttotal: 1m 8s\tremaining: 1m 14s\n",
      "96:\tlearn: 0.4622873\ttotal: 1m 9s\tremaining: 1m 13s\n",
      "97:\tlearn: 0.4622617\ttotal: 1m 10s\tremaining: 1m 13s\n",
      "98:\tlearn: 0.4622206\ttotal: 1m 10s\tremaining: 1m 12s\n",
      "99:\tlearn: 0.4621846\ttotal: 1m 11s\tremaining: 1m 11s\n",
      "100:\tlearn: 0.4621530\ttotal: 1m 12s\tremaining: 1m 11s\n",
      "101:\tlearn: 0.4621320\ttotal: 1m 13s\tremaining: 1m 10s\n",
      "102:\tlearn: 0.4620627\ttotal: 1m 14s\tremaining: 1m 9s\n",
      "103:\tlearn: 0.4620369\ttotal: 1m 15s\tremaining: 1m 9s\n",
      "104:\tlearn: 0.4620116\ttotal: 1m 15s\tremaining: 1m 8s\n",
      "105:\tlearn: 0.4619742\ttotal: 1m 16s\tremaining: 1m 7s\n",
      "106:\tlearn: 0.4619328\ttotal: 1m 17s\tremaining: 1m 7s\n",
      "107:\tlearn: 0.4619046\ttotal: 1m 17s\tremaining: 1m 6s\n",
      "108:\tlearn: 0.4618491\ttotal: 1m 18s\tremaining: 1m 5s\n",
      "109:\tlearn: 0.4618004\ttotal: 1m 19s\tremaining: 1m 4s\n",
      "110:\tlearn: 0.4617764\ttotal: 1m 19s\tremaining: 1m 4s\n",
      "111:\tlearn: 0.4617572\ttotal: 1m 20s\tremaining: 1m 3s\n",
      "112:\tlearn: 0.4617194\ttotal: 1m 21s\tremaining: 1m 2s\n",
      "113:\tlearn: 0.4617061\ttotal: 1m 21s\tremaining: 1m 1s\n",
      "114:\tlearn: 0.4616782\ttotal: 1m 22s\tremaining: 1m 1s\n",
      "115:\tlearn: 0.4616556\ttotal: 1m 23s\tremaining: 1m\n",
      "116:\tlearn: 0.4616095\ttotal: 1m 24s\tremaining: 59.7s\n",
      "117:\tlearn: 0.4615708\ttotal: 1m 24s\tremaining: 59s\n",
      "118:\tlearn: 0.4615429\ttotal: 1m 25s\tremaining: 58.3s\n",
      "119:\tlearn: 0.4615059\ttotal: 1m 26s\tremaining: 57.6s\n",
      "120:\tlearn: 0.4614681\ttotal: 1m 27s\tremaining: 56.9s\n",
      "121:\tlearn: 0.4614644\ttotal: 1m 27s\tremaining: 56.2s\n",
      "122:\tlearn: 0.4614492\ttotal: 1m 28s\tremaining: 55.4s\n",
      "123:\tlearn: 0.4614175\ttotal: 1m 29s\tremaining: 54.7s\n",
      "124:\tlearn: 0.4613834\ttotal: 1m 29s\tremaining: 54s\n",
      "125:\tlearn: 0.4613744\ttotal: 1m 30s\tremaining: 53.3s\n",
      "126:\tlearn: 0.4613471\ttotal: 1m 31s\tremaining: 52.6s\n",
      "127:\tlearn: 0.4613331\ttotal: 1m 32s\tremaining: 51.8s\n",
      "128:\tlearn: 0.4612997\ttotal: 1m 32s\tremaining: 51.1s\n",
      "129:\tlearn: 0.4612699\ttotal: 1m 33s\tremaining: 50.4s\n",
      "130:\tlearn: 0.4612452\ttotal: 1m 34s\tremaining: 49.7s\n",
      "131:\tlearn: 0.4612079\ttotal: 1m 35s\tremaining: 49s\n",
      "132:\tlearn: 0.4611703\ttotal: 1m 35s\tremaining: 48.3s\n",
      "133:\tlearn: 0.4611389\ttotal: 1m 36s\tremaining: 47.6s\n",
      "134:\tlearn: 0.4611085\ttotal: 1m 37s\tremaining: 46.8s\n",
      "135:\tlearn: 0.4610667\ttotal: 1m 38s\tremaining: 46.1s\n",
      "136:\tlearn: 0.4610319\ttotal: 1m 38s\tremaining: 45.4s\n",
      "137:\tlearn: 0.4609987\ttotal: 1m 39s\tremaining: 44.7s\n",
      "138:\tlearn: 0.4609797\ttotal: 1m 40s\tremaining: 43.9s\n",
      "139:\tlearn: 0.4609546\ttotal: 1m 40s\tremaining: 43.2s\n",
      "140:\tlearn: 0.4609306\ttotal: 1m 41s\tremaining: 42.5s\n",
      "141:\tlearn: 0.4609056\ttotal: 1m 42s\tremaining: 41.8s\n",
      "142:\tlearn: 0.4608771\ttotal: 1m 43s\tremaining: 41.1s\n",
      "143:\tlearn: 0.4608478\ttotal: 1m 43s\tremaining: 40.3s\n",
      "144:\tlearn: 0.4608328\ttotal: 1m 44s\tremaining: 39.6s\n",
      "145:\tlearn: 0.4608106\ttotal: 1m 45s\tremaining: 38.9s\n",
      "146:\tlearn: 0.4607762\ttotal: 1m 45s\tremaining: 38.2s\n",
      "147:\tlearn: 0.4607479\ttotal: 1m 46s\tremaining: 37.5s\n",
      "148:\tlearn: 0.4607445\ttotal: 1m 47s\tremaining: 36.7s\n",
      "149:\tlearn: 0.4607115\ttotal: 1m 48s\tremaining: 36s\n",
      "150:\tlearn: 0.4606897\ttotal: 1m 48s\tremaining: 35.3s\n",
      "151:\tlearn: 0.4606605\ttotal: 1m 49s\tremaining: 34.6s\n",
      "152:\tlearn: 0.4606342\ttotal: 1m 50s\tremaining: 33.8s\n",
      "153:\tlearn: 0.4606173\ttotal: 1m 50s\tremaining: 33.1s\n",
      "154:\tlearn: 0.4605896\ttotal: 1m 51s\tremaining: 32.4s\n",
      "155:\tlearn: 0.4605891\ttotal: 1m 52s\tremaining: 31.6s\n",
      "156:\tlearn: 0.4605679\ttotal: 1m 52s\tremaining: 30.9s\n"
     ]
    },
    {
     "name": "stdout",
     "output_type": "stream",
     "text": [
      "157:\tlearn: 0.4605413\ttotal: 1m 53s\tremaining: 30.2s\n",
      "158:\tlearn: 0.4605331\ttotal: 1m 54s\tremaining: 29.5s\n",
      "159:\tlearn: 0.4605147\ttotal: 1m 55s\tremaining: 28.8s\n",
      "160:\tlearn: 0.4604789\ttotal: 1m 55s\tremaining: 28s\n",
      "161:\tlearn: 0.4604770\ttotal: 1m 56s\tremaining: 27.3s\n",
      "162:\tlearn: 0.4604456\ttotal: 1m 57s\tremaining: 26.6s\n",
      "163:\tlearn: 0.4604352\ttotal: 1m 57s\tremaining: 25.9s\n",
      "164:\tlearn: 0.4604271\ttotal: 1m 58s\tremaining: 25.1s\n",
      "165:\tlearn: 0.4604004\ttotal: 1m 59s\tremaining: 24.4s\n",
      "166:\tlearn: 0.4603891\ttotal: 1m 59s\tremaining: 23.7s\n",
      "167:\tlearn: 0.4603548\ttotal: 2m\tremaining: 23s\n",
      "168:\tlearn: 0.4603339\ttotal: 2m 1s\tremaining: 22.3s\n",
      "169:\tlearn: 0.4603146\ttotal: 2m 2s\tremaining: 21.6s\n",
      "170:\tlearn: 0.4602838\ttotal: 2m 2s\tremaining: 20.8s\n",
      "171:\tlearn: 0.4602722\ttotal: 2m 3s\tremaining: 20.1s\n",
      "172:\tlearn: 0.4602449\ttotal: 2m 4s\tremaining: 19.4s\n",
      "173:\tlearn: 0.4602191\ttotal: 2m 4s\tremaining: 18.7s\n",
      "174:\tlearn: 0.4602138\ttotal: 2m 5s\tremaining: 17.9s\n",
      "175:\tlearn: 0.4601985\ttotal: 2m 6s\tremaining: 17.2s\n",
      "176:\tlearn: 0.4601864\ttotal: 2m 6s\tremaining: 16.5s\n",
      "177:\tlearn: 0.4601558\ttotal: 2m 7s\tremaining: 15.8s\n",
      "178:\tlearn: 0.4601258\ttotal: 2m 8s\tremaining: 15s\n",
      "179:\tlearn: 0.4601063\ttotal: 2m 8s\tremaining: 14.3s\n",
      "180:\tlearn: 0.4600826\ttotal: 2m 9s\tremaining: 13.6s\n",
      "181:\tlearn: 0.4600743\ttotal: 2m 10s\tremaining: 12.9s\n",
      "182:\tlearn: 0.4600482\ttotal: 2m 11s\tremaining: 12.2s\n",
      "183:\tlearn: 0.4600252\ttotal: 2m 11s\tremaining: 11.5s\n",
      "184:\tlearn: 0.4599998\ttotal: 2m 12s\tremaining: 10.8s\n",
      "185:\tlearn: 0.4599911\ttotal: 2m 13s\tremaining: 10s\n",
      "186:\tlearn: 0.4599665\ttotal: 2m 13s\tremaining: 9.31s\n",
      "187:\tlearn: 0.4599340\ttotal: 2m 14s\tremaining: 8.59s\n",
      "188:\tlearn: 0.4599037\ttotal: 2m 15s\tremaining: 7.87s\n",
      "189:\tlearn: 0.4599001\ttotal: 2m 16s\tremaining: 7.16s\n",
      "190:\tlearn: 0.4598753\ttotal: 2m 16s\tremaining: 6.44s\n",
      "191:\tlearn: 0.4598542\ttotal: 2m 17s\tremaining: 5.72s\n",
      "192:\tlearn: 0.4598300\ttotal: 2m 18s\tremaining: 5s\n",
      "193:\tlearn: 0.4598125\ttotal: 2m 18s\tremaining: 4.29s\n",
      "194:\tlearn: 0.4597879\ttotal: 2m 19s\tremaining: 3.58s\n",
      "195:\tlearn: 0.4597593\ttotal: 2m 20s\tremaining: 2.86s\n",
      "196:\tlearn: 0.4597267\ttotal: 2m 20s\tremaining: 2.15s\n",
      "197:\tlearn: 0.4597002\ttotal: 2m 21s\tremaining: 1.43s\n",
      "198:\tlearn: 0.4596754\ttotal: 2m 22s\tremaining: 715ms\n",
      "199:\tlearn: 0.4596489\ttotal: 2m 22s\tremaining: 0us\n"
     ]
    },
    {
     "data": {
      "text/plain": [
       "<catboost.core.CatBoostClassifier at 0x136be18d0>"
      ]
     },
     "execution_count": 55,
     "metadata": {},
     "output_type": "execute_result"
    }
   ],
   "source": [
    "catb_model.fit(X_train_catb, y_train_catb)"
   ]
  },
  {
   "cell_type": "code",
   "execution_count": 56,
   "id": "flush-durham",
   "metadata": {},
   "outputs": [
    {
     "name": "stdout",
     "output_type": "stream",
     "text": [
      "AUC on train: 0.7422042127683935\n",
      "AUC on test: 0.7340509215595257\n",
      "__________________________________________________\n",
      "Precision on train: 0.5974534769833496\n",
      "Precision on test: 0.4503441494591937\n",
      "__________________________________________________\n",
      "Recall on train: 0.1552891659642354\n",
      "Recall on test: 0.1548343475321163\n",
      "__________________________________________________\n",
      "Accuracy on train: 0.7917334776284632\n",
      "Accuracy on test: 0.8370503213892538\n"
     ]
    }
   ],
   "source": [
    "y_prob_test_catb = catb_model.predict_proba(X_test_catb)[:,1]\n",
    "y_prob_train_catb = catb_model.predict_proba(X_train_catb)[:,1]\n",
    "\n",
    "# pecatborming predictions on the test set\n",
    "y_pred_train_catb = catb_model.predict(X_train_catb)\n",
    "y_pred_test_catb = catb_model.predict(X_test_catb)\n",
    "\n",
    "  \n",
    "print('AUC on train: {}'.format(roc_auc_score(y_train_catb, y_prob_train_catb)))\n",
    "print('AUC on test: {}'.format(roc_auc_score(y_test_catb, y_prob_test_catb)))\n",
    "print('_'*50)\n",
    "print('Precision on train: {}'.format(precision_score(y_train_catb, y_pred_train_catb)))\n",
    "print('Precision on test: {}'.format(precision_score(y_test_catb, y_pred_test_catb)))\n",
    "print('_'*50)\n",
    "print('Recall on train: {}'.format(recall_score(y_train_catb, y_pred_train_catb)))\n",
    "print('Recall on test: {}'.format(recall_score(y_test_catb, y_pred_test_catb)))\n",
    "print('_'*50)\n",
    "print('Accuracy on train: {}'.format(accuracy_score(y_train_catb, y_pred_train_catb)))\n",
    "print('Accuracy on test: {}'.format(accuracy_score(y_test_catb, y_pred_test_catb)))"
   ]
  },
  {
   "cell_type": "markdown",
   "id": "hawaiian-carpet",
   "metadata": {},
   "source": [
    "# VENDO RESULTADOS FINAIS"
   ]
  },
  {
   "cell_type": "code",
   "execution_count": 57,
   "id": "stopped-government",
   "metadata": {},
   "outputs": [],
   "source": [
    "import matplotlib.pyplot as plt\n",
    "import seaborn as sns"
   ]
  },
  {
   "cell_type": "code",
   "execution_count": 58,
   "id": "theoretical-outdoors",
   "metadata": {},
   "outputs": [
    {
     "data": {
      "text/plain": [
       "<matplotlib.legend.Legend at 0x136be1d30>"
      ]
     },
     "execution_count": 58,
     "metadata": {},
     "output_type": "execute_result"
    },
    {
     "data": {
      "image/png": "[encoded data removed]",
      "text/plain": [
       "<Figure size 864x360 with 1 Axes>"
      ]
     },
     "metadata": {
      "needs_background": "light"
     },
     "output_type": "display_data"
    }
   ],
   "source": [
    "df_de_metricas = pd.DataFrame(df_metrics)\n",
    "\n",
    "df_de_metricas.drop(0, axis=0).set_index('model')[[\n",
    "    'accuracy',\n",
    "    'precision',\n",
    "    'recall',\n",
    "    'roc_auc'\n",
    "]].plot(kind='bar', colormap='icefire', figsize=(12,5))\n",
    "\n",
    "plt.title(\"Métricas\")\n",
    "plt.legend(loc='best')\n",
    "#plt.legend('best')"
   ]
  },
  {
   "cell_type": "code",
   "execution_count": 97,
   "id": "essential-botswana",
   "metadata": {},
   "outputs": [
    {
     "data": {
      "text/html": [
       "<div>\n",
       "<style scoped>\n",
       "    .dataframe tbody tr th:only-of-type {\n",
       "        vertical-align: middle;\n",
       "    }\n",
       "\n",
       "    .dataframe tbody tr th {\n",
       "        vertical-align: top;\n",
       "    }\n",
       "\n",
       "    .dataframe thead th {\n",
       "        text-align: right;\n",
       "    }\n",
       "</style>\n",
       "<table border=\"1\" class=\"dataframe\">\n",
       "  <thead>\n",
       "    <tr style=\"text-align: right;\">\n",
       "      <th></th>\n",
       "      <th>model</th>\n",
       "      <th>accuracy</th>\n",
       "      <th>precision</th>\n",
       "      <th>recall</th>\n",
       "      <th>f1</th>\n",
       "      <th>roc_auc</th>\n",
       "    </tr>\n",
       "  </thead>\n",
       "  <tbody>\n",
       "    <tr>\n",
       "      <th>0</th>\n",
       "      <td>Logistic Regression</td>\n",
       "      <td>0.65</td>\n",
       "      <td>0.35</td>\n",
       "      <td>0.68</td>\n",
       "      <td>0.46</td>\n",
       "      <td>0.72</td>\n",
       "    </tr>\n",
       "    <tr>\n",
       "      <th>1</th>\n",
       "      <td>Logistic Regression SM</td>\n",
       "      <td>0.79</td>\n",
       "      <td>0.55</td>\n",
       "      <td>0.13</td>\n",
       "      <td>0.21</td>\n",
       "      <td>0.72</td>\n",
       "    </tr>\n",
       "    <tr>\n",
       "      <th>2</th>\n",
       "      <td>Decision Tree</td>\n",
       "      <td>0.64</td>\n",
       "      <td>0.34</td>\n",
       "      <td>0.65</td>\n",
       "      <td>0.44</td>\n",
       "      <td>0.70</td>\n",
       "    </tr>\n",
       "    <tr>\n",
       "      <th>3</th>\n",
       "      <td>Random Forest</td>\n",
       "      <td>0.60</td>\n",
       "      <td>0.32</td>\n",
       "      <td>0.73</td>\n",
       "      <td>0.45</td>\n",
       "      <td>0.71</td>\n",
       "    </tr>\n",
       "    <tr>\n",
       "      <th>4</th>\n",
       "      <td>CatBoost</td>\n",
       "      <td>0.79</td>\n",
       "      <td>0.55</td>\n",
       "      <td>0.14</td>\n",
       "      <td>0.23</td>\n",
       "      <td>0.72</td>\n",
       "    </tr>\n",
       "  </tbody>\n",
       "</table>\n",
       "</div>"
      ],
      "text/plain": [
       "                    model  accuracy  precision  recall   f1  roc_auc\n",
       "0     Logistic Regression      0.65       0.35    0.68 0.46     0.72\n",
       "1  Logistic Regression SM      0.79       0.55    0.13 0.21     0.72\n",
       "2           Decision Tree      0.64       0.34    0.65 0.44     0.70\n",
       "3           Random Forest      0.60       0.32    0.73 0.45     0.71\n",
       "4                CatBoost      0.79       0.55    0.14 0.23     0.72"
      ]
     },
     "execution_count": 97,
     "metadata": {},
     "output_type": "execute_result"
    }
   ],
   "source": [
    "df_de_metricas"
   ]
  },
  {
   "cell_type": "markdown",
   "id": "asian-encoding",
   "metadata": {},
   "source": [
    "# Feature Selection"
   ]
  },
  {
   "cell_type": "code",
   "execution_count": 59,
   "id": "intensive-respondent",
   "metadata": {},
   "outputs": [],
   "source": [
    "# fs_pipe = Pipeline([\n",
    "#     ('constant', DropConstantFeatures(tol=0.998)), \n",
    "#     ('duplicated', DropDuplicateFeatures()),\n",
    "# #     ('shuffle', SelectByShuffling(estimator = RandomForestClassifier(n_estimators=10, max_depth=2, random_state=1),\n",
    "# #                                   scoring=\"roc_auc\", \n",
    "# #                                   cv=3)\n",
    "# #     ),\n",
    "# #     ('rfe': RecursiveFeatureElimination(\n",
    "# #         estimator = RandomForestClassifier(n_estimators=10, max_depth=2, random_state=1),\n",
    "# #         scoring=\"roc_auc\",\n",
    "# #         cv=3,\n",
    "# #         threshold = 0.04)\n",
    "# #     ),\n",
    "#     ('smart_corr', SmartCorrelatedSelection(\n",
    "#         variables=None, # usa todas as variáveis\n",
    "#         method=\"pearson\", # método de correlação\n",
    "#         threshold=0.7, # threshold\n",
    "#         missing_values=\"ignore\",\n",
    "#         selection_method=\"model_performance\", # forma de selecionar as features\n",
    "#         estimator=RandomForestClassifier(n_estimators=10, random_state=1))\n",
    "#     )\n",
    "# ])\n",
    "\n",
    "# fs_pipe.fit(X_train, y_train)"
   ]
  },
  {
   "cell_type": "code",
   "execution_count": 60,
   "id": "accomplished-saint",
   "metadata": {},
   "outputs": [],
   "source": [
    "# X_train_fs = fs_pipe.transform(X_train)"
   ]
  },
  {
   "cell_type": "code",
   "execution_count": 61,
   "id": "signed-tours",
   "metadata": {},
   "outputs": [],
   "source": [
    "# X_train.shape"
   ]
  },
  {
   "cell_type": "code",
   "execution_count": 62,
   "id": "billion-cooling",
   "metadata": {},
   "outputs": [],
   "source": [
    "# X_train_fs.shape"
   ]
  },
  {
   "cell_type": "code",
   "execution_count": 63,
   "id": "earlier-kinase",
   "metadata": {},
   "outputs": [],
   "source": [
    "# type(X_train_fs)"
   ]
  },
  {
   "cell_type": "markdown",
   "id": "buried-roommate",
   "metadata": {},
   "source": [
    "# Grid Seach do melhor modelo"
   ]
  },
  {
   "cell_type": "markdown",
   "id": "adopted-record",
   "metadata": {},
   "source": [
    "Otimizando recall devido reducao do falso negativo\n",
    "\n",
    "\n",
    "$$ precision = \\frac{TP}{TP + FP} $$\n",
    "\n",
    "\n",
    "$$ recall = \\frac{TP}{TP + FN} $$\n"
   ]
  },
  {
   "cell_type": "code",
   "execution_count": 66,
   "id": "relevant-glasgow",
   "metadata": {},
   "outputs": [],
   "source": [
    "from sklearn.model_selection import GridSearchCV\n",
    "\n",
    "rf_model = RandomForestClassifier(random_state=0)\n",
    "\n",
    "grid_parametros = {\n",
    "    'max_depth': [3, 4],\n",
    "    'max_features': ['auto'],\n",
    "    'min_samples_leaf': [25, 50, 100],\n",
    "    #'min_samples_split': [50, 100],\n",
    "    'n_estimators': [200],\n",
    "    'class_weight': ['balanced']\n",
    "}\n",
    "\n",
    "\n",
    "grid_search = GridSearchCV(\n",
    "    estimator = rf_model, \n",
    "    param_grid = grid_parametros, \n",
    "    scoring = 'recall', \n",
    "    cv = 3, \n",
    "    n_jobs = -1, \n",
    "    #refit = True, \n",
    "    verbose = 2\n",
    ")"
   ]
  },
  {
   "cell_type": "code",
   "execution_count": 67,
   "id": "focused-sentence",
   "metadata": {},
   "outputs": [
    {
     "name": "stdout",
     "output_type": "stream",
     "text": [
      "Fitting 3 folds for each of 18 candidates, totalling 54 fits\n"
     ]
    },
    {
     "data": {
      "text/plain": [
       "GridSearchCV(cv=3, estimator=RandomForestClassifier(random_state=0), n_jobs=-1,\n",
       "             param_grid={'max_depth': [3, 4, 5], 'max_features': ['auto'],\n",
       "                         'min_samples_leaf': [25, 50, 100],\n",
       "                         'min_samples_split': [50, 100],\n",
       "                         'n_estimators': [200]},\n",
       "             scoring='recall', verbose=2)"
      ]
     },
     "execution_count": 67,
     "metadata": {},
     "output_type": "execute_result"
    }
   ],
   "source": [
    "grid_search.fit(X_train, y_train)"
   ]
  },
  {
   "cell_type": "code",
   "execution_count": 68,
   "id": "clean-rocket",
   "metadata": {},
   "outputs": [
    {
     "data": {
      "text/plain": [
       "{'max_depth': 5,\n",
       " 'max_features': 'auto',\n",
       " 'min_samples_leaf': 25,\n",
       " 'min_samples_split': 50,\n",
       " 'n_estimators': 200}"
      ]
     },
     "execution_count": 68,
     "metadata": {},
     "output_type": "execute_result"
    }
   ],
   "source": [
    "# retorna a melhor combinação de hiperparâmetros\n",
    "best_params = grid_search.best_params_\n",
    "best_params"
   ]
  },
  {
   "cell_type": "code",
   "execution_count": 69,
   "id": "conditional-insight",
   "metadata": {},
   "outputs": [
    {
     "data": {
      "text/plain": [
       "0.010669470427910712"
      ]
     },
     "execution_count": 69,
     "metadata": {},
     "output_type": "execute_result"
    }
   ],
   "source": [
    "# retorna o melhor score, nesse caso a roc-auc média usando um cv=5\n",
    "best_score = grid_search.best_score_\n",
    "best_score"
   ]
  },
  {
   "cell_type": "code",
   "execution_count": 70,
   "id": "molecular-style",
   "metadata": {},
   "outputs": [],
   "source": [
    "# retorna o melhor modelo do grid\n",
    "best_rf_model = grid_search.best_estimator_"
   ]
  },
  {
   "cell_type": "markdown",
   "id": "rough-bibliography",
   "metadata": {},
   "source": [
    "## Avaliando a performance na base out of time"
   ]
  },
  {
   "cell_type": "code",
   "execution_count": 93,
   "id": "present-pittsburgh",
   "metadata": {},
   "outputs": [
    {
     "data": {
      "text/plain": [
       "RandomForestClassifier(class_weight='balanced', max_depth=5,\n",
       "                       min_samples_leaf=25, min_samples_split=50,\n",
       "                       n_estimators=200, random_state=0)"
      ]
     },
     "execution_count": 93,
     "metadata": {},
     "output_type": "execute_result"
    }
   ],
   "source": [
    "best_model = RandomForestClassifier(**best_params, **{'random_state': 0, 'class_weight': 'balanced'})\n",
    "best_model.fit(X_train, y_train)"
   ]
  },
  {
   "cell_type": "code",
   "execution_count": 94,
   "id": "threatened-bunny",
   "metadata": {},
   "outputs": [
    {
     "name": "stdout",
     "output_type": "stream",
     "text": [
      "AUC on train: 0.7144671576360851\n",
      "AUC on test: 0.6931531364061022\n",
      "__________________________________________________\n",
      "Precision on train: 0.3264878360779539\n",
      "Precision on test: 0.23232840626372017\n",
      "__________________________________________________\n",
      "Recall on train: 0.719048238641828\n",
      "Recall on test: 0.7155735857561415\n",
      "__________________________________________________\n",
      "Accuracy on train: 0.6129523081429118\n",
      "Accuracy on test: 0.5826201214531767\n"
     ]
    }
   ],
   "source": [
    "y_prob_test_best_rf = best_model.predict_proba(X_test)[:,1]\n",
    "y_prob_train_best_rf = best_model.predict_proba(X_train)[:,1]\n",
    "\n",
    "# pebest_rforming predictions on the test set\n",
    "y_pred_train_best_rf = best_model.predict(X_train)\n",
    "y_pred_test_best_rf = best_model.predict(X_test)\n",
    "\n",
    "  \n",
    "print('AUC on train: {}'.format(roc_auc_score(y_train, y_prob_train_best_rf)))\n",
    "print('AUC on test: {}'.format(roc_auc_score(y_test, y_prob_test_best_rf)))\n",
    "print('_'*50)\n",
    "print('Precision on train: {}'.format(precision_score(y_train, y_pred_train_best_rf)))\n",
    "print('Precision on test: {}'.format(precision_score(y_test, y_pred_test_best_rf)))\n",
    "print('_'*50)\n",
    "print('Recall on train: {}'.format(recall_score(y_train, y_pred_train_best_rf)))\n",
    "print('Recall on test: {}'.format(recall_score(y_test, y_pred_test_best_rf)))\n",
    "print('_'*50)\n",
    "print('Accuracy on train: {}'.format(accuracy_score(y_train, y_pred_train_best_rf)))\n",
    "print('Accuracy on test: {}'.format(accuracy_score(y_test, y_pred_test_best_rf)))"
   ]
  },
  {
   "cell_type": "markdown",
   "id": "neutral-clause",
   "metadata": {},
   "source": [
    "# Salvando modelo e dados"
   ]
  },
  {
   "cell_type": "code",
   "execution_count": 96,
   "id": "pursuant-outline",
   "metadata": {},
   "outputs": [],
   "source": [
    "with open('model.pkl', 'wb') as f:\n",
    "    pickle.dump(best_model, f)"
   ]
  },
  {
   "cell_type": "code",
   "execution_count": 89,
   "id": "forced-legend",
   "metadata": {},
   "outputs": [],
   "source": [
    "X_train.to_csv('X_train.csv', index=None)\n",
    "X_test.to_csv('X_test.csv', index=None)\n",
    "y_train.to_csv('y_train.csv', index=None)\n",
    "y_test.to_csv('y_test.csv', index=None)"
   ]
  },
  {
   "cell_type": "markdown",
   "id": "defined-canvas",
   "metadata": {},
   "source": [
    "# FIM"
   ]
  },
  {
   "cell_type": "code",
   "execution_count": null,
   "id": "superb-elephant",
   "metadata": {},
   "outputs": [],
   "source": []
  }
 ],
 "metadata": {
  "kernelspec": {
   "display_name": "Python 3",
   "language": "python",
   "name": "python3"
  },
  "language_info": {
   "codemirror_mode": {
    "name": "ipython",
    "version": 3
   },
   "file_extension": ".py",
   "mimetype": "text/x-python",
   "name": "python",
   "nbconvert_exporter": "python",
   "pygments_lexer": "ipython3",
   "version": "3.7.3"
  }
 },
 "nbformat": 4,
 "nbformat_minor": 5
}
